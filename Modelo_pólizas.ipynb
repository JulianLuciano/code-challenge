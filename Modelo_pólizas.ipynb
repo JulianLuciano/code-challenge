{
  "cells": [
    {
      "cell_type": "markdown",
      "metadata": {
        "id": "imShyB4XHdxD"
      },
      "source": [
        "# **Modelo**"
      ]
    },
    {
      "cell_type": "markdown",
      "source": [
        "## Split de conjuntos"
      ],
      "metadata": {
        "id": "6mUyZ8r9zaXo"
      }
    },
    {
      "cell_type": "markdown",
      "source": [
        "Hago un check de la data que voy a usar en el modelo\n",
        "\n",
        "---\n",
        "\n"
      ],
      "metadata": {
        "id": "KeCLugJfjvQz"
      }
    },
    {
      "cell_type": "code",
      "execution_count": null,
      "metadata": {
        "colab": {
          "base_uri": "https://localhost:8080/"
        },
        "id": "PCN4PDSTHAAP",
        "outputId": "f8151c8c-402f-492c-a71e-65e696e216f2"
      },
      "outputs": [
        {
          "output_type": "stream",
          "name": "stdout",
          "text": [
            "<class 'pandas.core.frame.DataFrame'>\n",
            "Int64Index: 406448 entries, 0 to 406447\n",
            "Data columns (total 42 columns):\n",
            " #   Column                 Non-Null Count   Dtype         \n",
            "---  ------                 --------------   -----         \n",
            " 0   POLICY_ID              406448 non-null  float64       \n",
            " 1   INSR_BEGIN             406448 non-null  datetime64[ns]\n",
            " 2   INSR_END               406448 non-null  datetime64[ns]\n",
            " 3   CUSTOMER_SENIORITY     406448 non-null  float64       \n",
            " 4   SEX                    406448 non-null  object        \n",
            " 5   INSR_TYPE              406448 non-null  object        \n",
            " 6   INSURED_VALUE          406448 non-null  float64       \n",
            " 7   PREMIUM                406439 non-null  float64       \n",
            " 8   VEHICLE_ID             406448 non-null  float64       \n",
            " 9   USAGE                  406448 non-null  object        \n",
            " 10  CLAIM_PAID             33040 non-null   float64       \n",
            " 11  PROD_YEAR              406448 non-null  float64       \n",
            " 12  SEATS_NUM              406421 non-null  float64       \n",
            " 13  CARRYING_CAPACITY      312096 non-null  float64       \n",
            " 14  TYPE_VEHICLE           406448 non-null  object        \n",
            " 15  CCM_TON                406448 non-null  float64       \n",
            " 16  MAKE                   406445 non-null  object        \n",
            " 17  CLAIM                  406448 non-null  int64         \n",
            " 18  iv_positivo            406448 non-null  object        \n",
            " 19  premium_over_iv        406447 non-null  float64       \n",
            " 20  iv_over_premium        406447 non-null  float64       \n",
            " 21  iv_over_seats          406448 non-null  float64       \n",
            " 22  premium_over_seats     406448 non-null  float64       \n",
            " 23  iv_over_capacity       406448 non-null  float64       \n",
            " 24  premium_over_ccmton    406448 non-null  float64       \n",
            " 25  ccmton_over_premium    406448 non-null  float64       \n",
            " 26  iv_over_ccmton         406448 non-null  float64       \n",
            " 27  ccmton_over_iv         406448 non-null  float64       \n",
            " 28  Month_Abbrev           406448 non-null  object        \n",
            " 29  premium_over_iv_ln     406447 non-null  float64       \n",
            " 30  iv_over_premium_ln     406447 non-null  float64       \n",
            " 31  iv_ln                  406448 non-null  float64       \n",
            " 32  premium_ln             406439 non-null  float64       \n",
            " 33  iv_over_seats_ln       406448 non-null  float64       \n",
            " 34  premium_over_seats_ln  406448 non-null  float64       \n",
            " 35  iv_over_capacity_ln    406448 non-null  float64       \n",
            " 36  PREMIUM_stand          406439 non-null  float64       \n",
            " 37  INSURED_VALUE_stand    406448 non-null  float64       \n",
            " 38  CCM_TON_stand          406448 non-null  float64       \n",
            " 39  premium_over_iv_stand  406447 non-null  float64       \n",
            " 40  ccmton_over_iv_stand   406448 non-null  float64       \n",
            " 41  iv_over_premium_stand  406447 non-null  float64       \n",
            "dtypes: datetime64[ns](2), float64(32), int64(1), object(7)\n",
            "memory usage: 149.5+ MB\n"
          ]
        }
      ],
      "source": [
        "df.info()"
      ]
    },
    {
      "cell_type": "markdown",
      "source": [
        "\n",
        "\n",
        "---\n",
        "\n",
        "Hago una copia del df, quito lo que no voy a usar y hago el split de sets\n",
        "\n",
        "---\n",
        "\n"
      ],
      "metadata": {
        "id": "KveOVNwpjyUc"
      }
    },
    {
      "cell_type": "code",
      "execution_count": null,
      "metadata": {
        "colab": {
          "base_uri": "https://localhost:8080/"
        },
        "id": "q8u9XjwOHiXf",
        "outputId": "4279ff7a-c3ce-45cf-b73b-87a1413268c2"
      },
      "outputs": [
        {
          "output_type": "stream",
          "name": "stdout",
          "text": [
            "Dimensiones de Train set: (325158, 74) (325158,)\n",
            "Dimensiones de Validation set: (81290, 74) (81290,)\n"
          ]
        }
      ],
      "source": [
        "# Copio el dataframe\n",
        "df_copy = df.copy()\n",
        "# Cambio la columna iv positivo a valor numerico\n",
        "df_copy['iv_positivo'] = df_copy['iv_positivo'].astype(int)\n",
        "\n",
        "# Sacamos variables que no voy a usar en el modelo\n",
        "exclude_vars = ['INSR_BEGIN', 'INSR_END', 'CLAIM_PAID','MAKE']\n",
        "df_copy = df_copy.drop(columns=exclude_vars)\n",
        "\n",
        "# Imputamos nulos con la media\n",
        "numeric_cols = df_copy.select_dtypes(include=['float64', 'int64']).columns.tolist()\n",
        "numeric_preprocessor = SimpleImputer(strategy='mean')\n",
        "df_copy[numeric_cols] = numeric_preprocessor.fit_transform(df_copy[numeric_cols])\n",
        "\n",
        "# Hacemos one-hot encoding para categoricas\n",
        "categorical_columns = df_copy.select_dtypes(include=['object']).columns\n",
        "df_copy = pd.get_dummies(df_copy, columns=categorical_columns)\n",
        "\n",
        "# Claim como variable objetivo y el resto como predictoras\n",
        "X = df_copy.drop(columns=['CLAIM'])\n",
        "y = df_copy['CLAIM']\n",
        "\n",
        "# Comenzamos con un split aleatorio, eventualmente balanceamos las clases\n",
        "X_train, X_val, y_train, y_val = train_test_split(X, y, test_size=0.2, random_state=7)\n",
        "\n",
        "# Veo las dimensiones\n",
        "print(\"Dimensiones de Train set:\", X_train.shape, y_train.shape)\n",
        "print(\"Dimensiones de Validation set:\", X_val.shape, y_val.shape)"
      ]
    },
    {
      "cell_type": "markdown",
      "source": [
        "\n",
        "\n",
        "---\n",
        "**Comentario:** debido a que la empresa está interesada en predecir quienes van a realizar un reclamo de siniestro, voy a utilizar la métrica de Recall para elegir el mejor modelo, ya que es la proporción de siniestros que predigo bien sobre el universo total de siniestros. Puesto en otros términos: true positives / (true positives + false negatives)\n",
        "\n",
        "Eventualmente, si fuera costoso para la empresa predecir muchos false positive (lo cual disminuye precision), porque, por ejemplo, ajustan el precio de las primas para ellos, podría buscarse un equilibrio con la métrica f1\n",
        "\n",
        "---\n",
        "\n"
      ],
      "metadata": {
        "id": "0rYk0LkZkCXK"
      }
    },
    {
      "cell_type": "markdown",
      "source": [
        "## Modelos"
      ],
      "metadata": {
        "id": "CDdTGCdnzeOC"
      }
    },
    {
      "cell_type": "markdown",
      "metadata": {
        "id": "nHtm2jm6qU7Q"
      },
      "source": [
        "\n",
        "\n",
        "\n",
        "### Regresión logística\n"
      ]
    },
    {
      "cell_type": "code",
      "execution_count": null,
      "metadata": {
        "colab": {
          "base_uri": "https://localhost:8080/"
        },
        "id": "TDo4GrDVmhWk",
        "outputId": "6e78a5d8-2b62-4b65-bfab-ba15a5de4693"
      },
      "outputs": [
        {
          "output_type": "stream",
          "name": "stderr",
          "text": [
            "/usr/local/lib/python3.10/dist-packages/sklearn/linear_model/_logistic.py:458: ConvergenceWarning: lbfgs failed to converge (status=2):\n",
            "ABNORMAL_TERMINATION_IN_LNSRCH.\n",
            "\n",
            "Increase the number of iterations (max_iter) or scale the data as shown in:\n",
            "    https://scikit-learn.org/stable/modules/preprocessing.html\n",
            "Please also refer to the documentation for alternative solver options:\n",
            "    https://scikit-learn.org/stable/modules/linear_model.html#logistic-regression\n",
            "  n_iter_i = _check_optimize_result(\n",
            "/usr/local/lib/python3.10/dist-packages/sklearn/metrics/_classification.py:1344: UndefinedMetricWarning: Precision is ill-defined and being set to 0.0 due to no predicted samples. Use `zero_division` parameter to control this behavior.\n",
            "  _warn_prf(average, modifier, msg_start, len(result))\n"
          ]
        },
        {
          "output_type": "stream",
          "name": "stdout",
          "text": [
            "Training Accuracy: 0.9191\n",
            "Validation Accuracy: 0.9176\n",
            "Validation Precision: 0.0000\n",
            "Validation Recall: 0.0000\n",
            "Validation F1-Score: 0.0000\n",
            "\n",
            "Classification Report:\n",
            "              precision    recall  f1-score   support\n",
            "\n",
            "  No reclama       0.92      1.00      0.96     74590\n",
            "     Reclama       0.00      0.00      0.00      6700\n",
            "\n",
            "    accuracy                           0.92     81290\n",
            "   macro avg       0.46      0.50      0.48     81290\n",
            "weighted avg       0.84      0.92      0.88     81290\n",
            "\n"
          ]
        },
        {
          "output_type": "stream",
          "name": "stderr",
          "text": [
            "/usr/local/lib/python3.10/dist-packages/sklearn/metrics/_classification.py:1344: UndefinedMetricWarning: Precision and F-score are ill-defined and being set to 0.0 in labels with no predicted samples. Use `zero_division` parameter to control this behavior.\n",
            "  _warn_prf(average, modifier, msg_start, len(result))\n",
            "/usr/local/lib/python3.10/dist-packages/sklearn/metrics/_classification.py:1344: UndefinedMetricWarning: Precision and F-score are ill-defined and being set to 0.0 in labels with no predicted samples. Use `zero_division` parameter to control this behavior.\n",
            "  _warn_prf(average, modifier, msg_start, len(result))\n",
            "/usr/local/lib/python3.10/dist-packages/sklearn/metrics/_classification.py:1344: UndefinedMetricWarning: Precision and F-score are ill-defined and being set to 0.0 in labels with no predicted samples. Use `zero_division` parameter to control this behavior.\n",
            "  _warn_prf(average, modifier, msg_start, len(result))\n"
          ]
        }
      ],
      "source": [
        "# Inicializo y ajusto el modelo de regresión logística\n",
        "logistic_model = LogisticRegression(random_state=7)\n",
        "logistic_model.fit(X_train, y_train)\n",
        "\n",
        "# Predigo en conjuntos de entrenamiento y validación\n",
        "y_train_pred = logistic_model.predict(X_train)\n",
        "y_val_pred = logistic_model.predict(X_val)\n",
        "\n",
        "# Calculo métricas\n",
        "train_accuracy = accuracy_score(y_train, y_train_pred)\n",
        "val_accuracy = accuracy_score(y_val, y_val_pred)\n",
        "\n",
        "precision = precision_score(y_val, y_val_pred)\n",
        "recall = recall_score(y_val, y_val_pred)\n",
        "f1 = f1_score(y_val, y_val_pred)\n",
        "\n",
        "# Calculo métricas para cada clase\n",
        "classification_rep = classification_report(y_val, y_val_pred, target_names=['No reclama', 'Reclama'])\n",
        "\n",
        "print(f\"Training Accuracy: {train_accuracy:.4f}\")\n",
        "print(f\"Validation Accuracy: {val_accuracy:.4f}\")\n",
        "print(f\"Validation Precision: {precision:.4f}\")\n",
        "print(f\"Validation Recall: {recall:.4f}\")\n",
        "print(f\"Validation F1-Score: {f1:.4f}\")\n",
        "\n",
        "# Métricas por clase\n",
        "print()\n",
        "print(\"Classification Report:\")\n",
        "print(classification_rep)"
      ]
    },
    {
      "cell_type": "markdown",
      "source": [
        "**Comentario:**\n",
        "\n",
        "Este modelo de regresión logística con los datos provistos no alcanza a detectar los reclamos, ya que tiene un Recall de 0"
      ],
      "metadata": {
        "id": "9rBFMb_ijdin"
      }
    },
    {
      "cell_type": "markdown",
      "metadata": {
        "id": "bKeswsEqpZ_a"
      },
      "source": [
        "\n",
        "### Random Forest\n",
        "\n"
      ]
    },
    {
      "cell_type": "code",
      "execution_count": null,
      "metadata": {
        "colab": {
          "base_uri": "https://localhost:8080/"
        },
        "id": "fcAOWJahIsa_",
        "outputId": "6f101284-659b-47d4-c679-a721b1ef8bfb"
      },
      "outputs": [
        {
          "name": "stdout",
          "output_type": "stream",
          "text": [
            "Training Accuracy: 0.9194\n",
            "Validation Accuracy: 0.9177\n",
            "Validation Precision: 0.0000\n",
            "Validation Recall: 0.0000\n",
            "Validation F1-Score: 0.0000\n",
            "\n",
            "Classification Report:\n",
            "              precision    recall  f1-score   support\n",
            "\n",
            "  No reclama       0.92      1.00      0.96     74590\n",
            "     Reclama       0.00      0.00      0.00      6700\n",
            "\n",
            "    accuracy                           0.92     81290\n",
            "   macro avg       0.46      0.50      0.48     81290\n",
            "weighted avg       0.84      0.92      0.88     81290\n",
            "\n"
          ]
        }
      ],
      "source": [
        "# Crear el modelo Random Forest\n",
        "random_forest_model = RandomForestClassifier(\n",
        "                                            n_estimators=150,\n",
        "                                            max_depth=10,\n",
        "                                            min_samples_split=2,\n",
        "                                            min_samples_leaf=1,\n",
        "                                            random_state=7)\n",
        "# Entrenar el modelo en el conjunto de entrenamiento\n",
        "random_forest_model.fit(X_train, y_train)\n",
        "\n",
        "# Predecir en el conjunto de entrenamiento\n",
        "y_train_pred = random_forest_model.predict(X_train)\n",
        "\n",
        "# Predecir en el conjunto de validación\n",
        "y_val_pred = random_forest_model.predict(X_val)\n",
        "\n",
        "# Calcular métricas para el conjunto de entrenamiento\n",
        "train_accuracy = accuracy_score(y_train, y_train_pred)\n",
        "train_precision = precision_score(y_train, y_train_pred)\n",
        "train_recall = recall_score(y_train, y_train_pred)\n",
        "train_f1 = f1_score(y_train, y_train_pred)\n",
        "\n",
        "# Calcular métricas para el conjunto de validación\n",
        "val_accuracy = accuracy_score(y_val, y_val_pred)\n",
        "val_precision = precision_score(y_val, y_val_pred)\n",
        "val_recall = recall_score(y_val, y_val_pred)\n",
        "val_f1 = f1_score(y_val, y_val_pred)\n",
        "\n",
        "# Imprimir resultados\n",
        "print(f\"Training Accuracy: {train_accuracy:.4f}\")\n",
        "print(f\"Validation Accuracy: {val_accuracy:.4f}\")\n",
        "print(f\"Validation Precision: {precision:.4f}\")\n",
        "print(f\"Validation Recall: {recall:.4f}\")\n",
        "print(f\"Validation F1-Score: {f1:.4f}\")\n",
        "\n",
        "# Imprimir métricas por clase\n",
        "print()\n",
        "print(\"Classification Report:\")\n",
        "print(classification_rep)"
      ]
    },
    {
      "cell_type": "markdown",
      "source": [
        "**Comentario:**\n",
        "\n",
        "Este modelo de random forest con los datos provistos tampoco alcanza a detectar los reclamos, ya que tiene un Recall de 0"
      ],
      "metadata": {
        "id": "l5_tMOCllC6c"
      }
    },
    {
      "cell_type": "markdown",
      "metadata": {
        "id": "ZnwpPXB3Foib"
      },
      "source": [
        "\n",
        "\n",
        "---\n",
        "\n",
        "**Creo una muestra con mayor preponderacia de la clase minoritaria**\n",
        "\n",
        "---\n"
      ]
    },
    {
      "cell_type": "code",
      "execution_count": null,
      "metadata": {
        "id": "HHjXpYHgFmrw"
      },
      "outputs": [],
      "source": [
        "# Creo una instancia de SMOTE\n",
        "smote = SMOTE(random_state=7)\n",
        "\n",
        "# Aplico SMOTE al conjunto de entrenamiento\n",
        "X_train_resampled, y_train_resampled = smote.fit_resample(X_train, y_train)\n"
      ]
    },
    {
      "cell_type": "code",
      "execution_count": null,
      "metadata": {
        "colab": {
          "base_uri": "https://localhost:8080/"
        },
        "id": "Gj9i0QuTHc8i",
        "outputId": "edf667b8-d102-4dfa-db65-e7c3754a7927"
      },
      "outputs": [
        {
          "output_type": "stream",
          "name": "stdout",
          "text": [
            "Proporción de reclamos en base original: 0.08089913211423369\n",
            "Proporción de reclamos en base resampleada: 0.5\n"
          ]
        }
      ],
      "source": [
        "print(\"Proporción de reclamos en base original: \" + str(y_train.sum() / len(y_train)))\n",
        "print(\"Proporción de reclamos en base resampleada: \" + str(y_train_resampled.sum() / len(y_train_resampled)))"
      ]
    },
    {
      "cell_type": "markdown",
      "metadata": {
        "id": "3iFiUMthpzkU"
      },
      "source": [
        "\n",
        "---\n",
        "\n",
        "**Random Forest con muestra mejor balanceada**\n",
        "\n",
        "---\n",
        "\n"
      ]
    },
    {
      "cell_type": "code",
      "execution_count": null,
      "metadata": {
        "colab": {
          "base_uri": "https://localhost:8080/"
        },
        "id": "7-r1udobkeAS",
        "outputId": "6ee14681-8dae-4384-88d4-2b8bb66bd879"
      },
      "outputs": [
        {
          "output_type": "stream",
          "name": "stdout",
          "text": [
            "Resultados en train y validación\n",
            "           Entrenamiento  Validacion\n",
            "Metrica                             \n",
            "Accuracy        0.866538    0.769627\n",
            "Precision       0.823819    0.165340\n",
            "Recall          0.932499    0.443433\n",
            "F1-Score        0.874797    0.240869\n",
            "\n",
            "Classification Report:\n",
            "              precision    recall  f1-score   support\n",
            "\n",
            "  No reclama       0.94      0.80      0.86     74590\n",
            "     Reclama       0.17      0.44      0.24      6700\n",
            "\n",
            "    accuracy                           0.77     81290\n",
            "   macro avg       0.55      0.62      0.55     81290\n",
            "weighted avg       0.88      0.77      0.81     81290\n",
            "\n"
          ]
        }
      ],
      "source": [
        "# Creo y entreno el modelo balanceado\n",
        "balanced_model_rf = RandomForestClassifier(\n",
        "                                            n_estimators=150,\n",
        "                                            max_depth=10,\n",
        "                                            min_samples_split=2,\n",
        "                                            min_samples_leaf=1,\n",
        "                                            random_state=7)\n",
        "balanced_model_rf.fit(X_train_resampled, y_train_resampled)\n",
        "\n",
        "# Predecir en el conjunto de entrenamiento\n",
        "y_train_pred = balanced_model_rf.predict(X_train_resampled)\n",
        "\n",
        "# Predecir en el conjunto de validación\n",
        "y_val_pred = balanced_model_rf.predict(X_val)\n",
        "\n",
        "# Calcular métricas para el conjunto de entrenamiento\n",
        "train_accuracy = accuracy_score(y_train_resampled, y_train_pred)\n",
        "train_precision = precision_score(y_train_resampled, y_train_pred)\n",
        "train_recall = recall_score(y_train_resampled, y_train_pred)\n",
        "train_f1 = f1_score(y_train_resampled, y_train_pred)\n",
        "\n",
        "# Calcular métricas para el conjunto de validación\n",
        "val_accuracy = accuracy_score(y_val, y_val_pred)\n",
        "val_precision = precision_score(y_val, y_val_pred)\n",
        "val_recall = recall_score(y_val, y_val_pred)\n",
        "val_f1 = f1_score(y_val, y_val_pred)\n",
        "\n",
        "# Armo df con las métricas\n",
        "metrics_df = pd.DataFrame({\n",
        "    'Metrica': ['Accuracy', 'Precision', 'Recall', 'F1-Score'],\n",
        "    'Entrenamiento': [train_accuracy, train_precision, train_recall, train_f1],\n",
        "    'Validacion': [val_accuracy, val_precision, val_recall, val_f1]\n",
        "})\n",
        "metrics_df = metrics_df.set_index('Metrica')\n",
        "\n",
        "# Calcular métricas para cada clase\n",
        "classification_rep = classification_report(y_val, y_val_pred, target_names=['No reclama', 'Reclama'])\n",
        "\n",
        "\n",
        "print(\"Resultados en train y validación\")\n",
        "print(metrics_df)\n",
        "\n",
        "# Imprimir métricas por clase\n",
        "print()\n",
        "print(\"Classification Report:\")\n",
        "print(classification_rep)"
      ]
    },
    {
      "cell_type": "markdown",
      "source": [
        "**Comentario:**\n",
        "\n",
        "Solo con rebalancear la muestra, el modelo ya alcanza un recall de 0,44"
      ],
      "metadata": {
        "id": "btWLUJuUooT7"
      }
    },
    {
      "cell_type": "markdown",
      "source": [
        "---\n",
        "\n",
        "**Random Forest con muestra mejor balanceada y optimización de hiperparámetros manual**\n",
        "\n",
        "---\n"
      ],
      "metadata": {
        "id": "K_KoKQ4Wr5K6"
      }
    },
    {
      "cell_type": "code",
      "source": [
        "# Creo y entreno el modelo balanceado\n",
        "balanced_model_rf = RandomForestClassifier(\n",
        "                                            n_estimators=300,\n",
        "                                            max_depth=5,\n",
        "                                            min_samples_split=2,\n",
        "                                            min_samples_leaf=1,\n",
        "                                            random_state=7)\n",
        "balanced_model_rf.fit(X_train_resampled, y_train_resampled)\n",
        "\n",
        "# Predecir en el conjunto de entrenamiento\n",
        "y_train_pred = balanced_model_rf.predict(X_train_resampled)\n",
        "\n",
        "# Predecir en el conjunto de validación\n",
        "y_val_pred = balanced_model_rf.predict(X_val)\n",
        "\n",
        "# Calcular métricas para el conjunto de entrenamiento\n",
        "train_accuracy = accuracy_score(y_train_resampled, y_train_pred)\n",
        "train_precision = precision_score(y_train_resampled, y_train_pred)\n",
        "train_recall = recall_score(y_train_resampled, y_train_pred)\n",
        "train_f1 = f1_score(y_train_resampled, y_train_pred)\n",
        "\n",
        "# Calcular métricas para el conjunto de validación\n",
        "val_accuracy = accuracy_score(y_val, y_val_pred)\n",
        "val_precision = precision_score(y_val, y_val_pred)\n",
        "val_recall = recall_score(y_val, y_val_pred)\n",
        "val_f1 = f1_score(y_val, y_val_pred)\n",
        "\n",
        "# Armo df con las métricas\n",
        "metrics_df = pd.DataFrame({\n",
        "    'Metrica': ['Accuracy', 'Precision', 'Recall', 'F1-Score'],\n",
        "    'Entrenamiento': [train_accuracy, train_precision, train_recall, train_f1],\n",
        "    'Validacion': [val_accuracy, val_precision, val_recall, val_f1]\n",
        "})\n",
        "metrics_df = metrics_df.set_index('Metrica')\n",
        "\n",
        "# Calcular métricas para cada clase\n",
        "classification_rep = classification_report(y_val, y_val_pred, target_names=['No reclama', 'Reclama'])\n",
        "\n",
        "\n",
        "print(\"Resultados en train y validación\")\n",
        "print(metrics_df)\n",
        "\n",
        "# Imprimir métricas por clase\n",
        "print()\n",
        "print(\"Classification Report:\")\n",
        "print(classification_rep)"
      ],
      "metadata": {
        "colab": {
          "base_uri": "https://localhost:8080/"
        },
        "id": "zOgsoDCYot-N",
        "outputId": "8ed3d9a4-253a-4c97-d53a-fffbb66226c6"
      },
      "execution_count": null,
      "outputs": [
        {
          "output_type": "stream",
          "name": "stdout",
          "text": [
            "Resultados en train y validación\n",
            "           Entrenamiento  Validacion\n",
            "Metrica                             \n",
            "Accuracy        0.788473    0.639390\n",
            "Precision       0.720588    0.147406\n",
            "Recall          0.942346    0.705522\n",
            "F1-Score        0.816681    0.243861\n",
            "\n",
            "Classification Report:\n",
            "              precision    recall  f1-score   support\n",
            "\n",
            "  No reclama       0.96      0.63      0.76     74590\n",
            "     Reclama       0.15      0.71      0.24      6700\n",
            "\n",
            "    accuracy                           0.64     81290\n",
            "   macro avg       0.55      0.67      0.50     81290\n",
            "weighted avg       0.89      0.64      0.72     81290\n",
            "\n"
          ]
        }
      ]
    },
    {
      "cell_type": "markdown",
      "source": [
        "**Comentario:**\n",
        "\n",
        "Manteniendo la muestra rebalanceada y luego de cierta optimización manual de hiperparámetros, este random forest consigue un recall de 0,71"
      ],
      "metadata": {
        "id": "BVZHAEsLwKkq"
      }
    },
    {
      "cell_type": "markdown",
      "source": [
        "---\n",
        "\n",
        "**Random Forest con muestra mejor balanceada y optimización de hiperparámetros manual - última versión**\n",
        "\n",
        "---"
      ],
      "metadata": {
        "id": "8lgfOeY9sw4F"
      }
    },
    {
      "cell_type": "markdown",
      "source": [
        "Este es el modelo que dio el mejor resultado de los que probé al momento"
      ],
      "metadata": {
        "id": "ThEPVRoVsy-b"
      }
    },
    {
      "cell_type": "code",
      "source": [
        "# Creo y entreno el modelo balanceado\n",
        "balanced_model_rf = RandomForestClassifier(\n",
        "                                            n_estimators=200,\n",
        "                                            max_depth=3,\n",
        "                                            min_samples_split=2,\n",
        "                                            min_samples_leaf=1,\n",
        "                                            random_state=7)\n",
        "balanced_model_rf.fit(X_train_resampled, y_train_resampled)\n",
        "\n",
        "# Predecir en el conjunto de entrenamiento\n",
        "y_train_pred = balanced_model_rf.predict(X_train_resampled)\n",
        "\n",
        "# Predecir en el conjunto de validación\n",
        "y_val_pred = balanced_model_rf.predict(X_val)\n",
        "\n",
        "# Calcular métricas para el conjunto de entrenamiento\n",
        "train_accuracy = accuracy_score(y_train_resampled, y_train_pred)\n",
        "train_precision = precision_score(y_train_resampled, y_train_pred)\n",
        "train_recall = recall_score(y_train_resampled, y_train_pred)\n",
        "train_f1 = f1_score(y_train_resampled, y_train_pred)\n",
        "\n",
        "# Calcular métricas para el conjunto de validación\n",
        "val_accuracy = accuracy_score(y_val, y_val_pred)\n",
        "val_precision = precision_score(y_val, y_val_pred)\n",
        "val_recall = recall_score(y_val, y_val_pred)\n",
        "val_f1 = f1_score(y_val, y_val_pred)\n",
        "\n",
        "# Armo df con las métricas\n",
        "metrics_df = pd.DataFrame({\n",
        "    'Metrica': ['Accuracy', 'Precision', 'Recall', 'F1-Score'],\n",
        "    'Entrenamiento': [train_accuracy, train_precision, train_recall, train_f1],\n",
        "    'Validacion': [val_accuracy, val_precision, val_recall, val_f1]\n",
        "})\n",
        "metrics_df = metrics_df.set_index('Metrica')\n",
        "\n",
        "# Calcular métricas para cada clase\n",
        "classification_rep = classification_report(y_val, y_val_pred, target_names=['No reclama', 'Reclama'])\n",
        "\n",
        "\n",
        "print(\"Resultados en train y validación\")\n",
        "print(metrics_df)\n",
        "\n",
        "# Imprimir métricas por clase\n",
        "print()\n",
        "print(\"Classification Report:\")\n",
        "print(classification_rep)"
      ],
      "metadata": {
        "colab": {
          "base_uri": "https://localhost:8080/"
        },
        "id": "dSQ57XjurGbe",
        "outputId": "894f4bf5-b2a5-4a73-ca2b-89c13328d85d"
      },
      "execution_count": null,
      "outputs": [
        {
          "output_type": "stream",
          "name": "stdout",
          "text": [
            "Resultados en train y validación\n",
            "           Entrenamiento  Validacion\n",
            "Metrica                             \n",
            "Accuracy        0.739096    0.547989\n",
            "Precision       0.666202    0.141189\n",
            "Recall          0.958388    0.882239\n",
            "F1-Score        0.786020    0.243421\n",
            "\n",
            "Classification Report:\n",
            "              precision    recall  f1-score   support\n",
            "\n",
            "  No reclama       0.98      0.52      0.68     74590\n",
            "     Reclama       0.14      0.88      0.24      6700\n",
            "\n",
            "    accuracy                           0.55     81290\n",
            "   macro avg       0.56      0.70      0.46     81290\n",
            "weighted avg       0.91      0.55      0.64     81290\n",
            "\n"
          ]
        }
      ]
    },
    {
      "cell_type": "markdown",
      "source": [
        "**Comentario:**\n",
        "\n",
        "El modelo de random forest, optimizando hiperparámetros manualmente, que mejor performó fue este, con un recall de 0,88\n"
      ],
      "metadata": {
        "id": "W56KZfBLv9er"
      }
    },
    {
      "cell_type": "markdown",
      "source": [
        "---\n",
        "\n",
        "**Feature importance para las 15 variables más explicativas del último modelo**\n",
        "\n",
        "---\n"
      ],
      "metadata": {
        "id": "aY6vmaZJw09N"
      }
    },
    {
      "cell_type": "code",
      "source": [
        "# Obtener importancia de las características\n",
        "importances = balanced_model_rf.feature_importances_\n",
        "feature_names = X_train_resampled.columns\n",
        "\n",
        "# Calcular importancias relativas en porcentajes\n",
        "relative_importances = 100 * (importances / importances.sum())\n",
        "\n",
        "# Crear un DataFrame con las características y sus importancias relativas\n",
        "feature_importance_df = pd.DataFrame({'Feature': feature_names, 'Importance': relative_importances})\n",
        "\n",
        "# Ordenar el DataFrame por importancia en orden descendente\n",
        "feature_importance_df = feature_importance_df.sort_values(by='Importance', ascending=False)\n",
        "\n",
        "# Seleccionar las primeras 15 variables más importantes\n",
        "top_15_features = feature_importance_df.head(15)\n",
        "\n",
        "# Graficar la importancia de las características\n",
        "plt.figure(figsize=(10, 6))\n",
        "ax = sns.barplot(x='Importance', y='Feature', data=top_15_features, palette='viridis')\n",
        "plt.title('Random Forest Top 15 Feature Importance')\n",
        "plt.xlabel('Importance (%)')\n",
        "plt.ylabel('Features')\n",
        "\n",
        "# Agregar etiquetas de porcentaje a la derecha de cada barra\n",
        "for index, value in enumerate(top_15_features['Importance']):\n",
        "    ax.text(value + 0.5, index, f'{value:.1f}%', ha='left', va='center', color='black', fontsize=10)\n",
        "\n",
        "plt.show()\n"
      ],
      "metadata": {
        "colab": {
          "base_uri": "https://localhost:8080/",
          "height": 651
        },
        "id": "AXZE9oyrwzxA",
        "outputId": "b96181c7-2779-446a-d3e9-ceecd71deea5"
      },
      "execution_count": null,
      "outputs": [
        {
          "output_type": "stream",
          "name": "stderr",
          "text": [
            "<ipython-input-99-f58f6bc39680>:19: FutureWarning: \n",
            "\n",
            "Passing `palette` without assigning `hue` is deprecated and will be removed in v0.14.0. Assign the `y` variable to `hue` and set `legend=False` for the same effect.\n",
            "\n",
            "  ax = sns.barplot(x='Importance', y='Feature', data=top_15_features, palette='viridis')\n"
          ]
        },
        {
          "output_type": "display_data",
          "data": {
            "text/plain": [
              "<Figure size 1000x600 with 1 Axes>"
            ],
            "image/png": "[encoded data removed]"
          },
          "metadata": {}
        }
      ]
    },
    {
      "cell_type": "markdown",
      "source": [
        "**Comentario:**\n",
        "\n",
        "Las primeras diez variables refieren a la prima, el valor asegurado y transformaciones de ellas, acumulando el 64,7% del poder explicativo del modelo. Ello podría ser un indicio de que al volver hacia atrás y realizar un feature engenieering más exhaustivo sobre esas variables probablemente se pueda conseguir un modelo más preciso para distinguir las clases."
      ],
      "metadata": {
        "id": "VK5XoJk3x4xn"
      }
    },
    {
      "cell_type": "markdown",
      "source": [
        "\n",
        "### Xgboost\n"
      ],
      "metadata": {
        "id": "0UbJf2Oen-4b"
      }
    },
    {
      "cell_type": "markdown",
      "source": [
        "---\n",
        "\n",
        "**Grid Search para xgboost**\n",
        "\n",
        "---"
      ],
      "metadata": {
        "id": "H7JVfqR8zt5p"
      }
    },
    {
      "cell_type": "markdown",
      "metadata": {
        "id": "7eM03WF_wS6g"
      },
      "source": [
        "\n",
        "Habiendo probado varios valores de hiperparámetros y teniendo un sense de por dónde mejora el modelo de Xgboost que armé, voy a hacer gridsearch para diferentes valores\n",
        "\n"
      ]
    },
    {
      "cell_type": "code",
      "execution_count": null,
      "metadata": {
        "colab": {
          "base_uri": "https://localhost:8080/"
        },
        "id": "6sksQD2vwb39",
        "outputId": "f0b1b0b3-055d-451a-aed0-0e0c8652ecdd"
      },
      "outputs": [
        {
          "output_type": "stream",
          "name": "stdout",
          "text": [
            "Fitting 3 folds for each of 84 candidates, totalling 252 fits\n",
            "Mejores parámetros: {'colsample_bytree': 0.6, 'max_depth': 2, 'n_estimators': 200}\n",
            "Mejor modelo: XGBClassifier(base_score=None, booster=None, callbacks=None,\n",
            "              colsample_bylevel=None, colsample_bynode=None,\n",
            "              colsample_bytree=0.6, device=None, early_stopping_rounds=None,\n",
            "              enable_categorical=False, eval_metric=None, feature_types=None,\n",
            "              gamma=None, grow_policy=None, importance_type=None,\n",
            "              interaction_constraints=None, learning_rate=0.001, max_bin=None,\n",
            "              max_cat_threshold=None, max_cat_to_onehot=None,\n",
            "              max_delta_step=None, max_depth=2, max_leaves=None,\n",
            "              min_child_weight=None, missing=nan, monotone_constraints=None,\n",
            "              multi_strategy=None, n_estimators=200, n_jobs=None,\n",
            "              num_parallel_tree=None, random_state=7, ...)\n",
            "Recall con los mejores parámetros en el conjunto de validación: 0.8313\n"
          ]
        }
      ],
      "source": [
        "# Defino los valores para el grid search\n",
        "param_grid = {\n",
        "    'colsample_bytree': [0.6, 0.65, 0.7, 0.75, 0.8, 0.85, 0.9],\n",
        "    'max_depth': [2,3, 4],\n",
        "    'n_estimators': [100, 200, 300, 500]\n",
        "}\n",
        "\n",
        "# Creo el modelo base\n",
        "base_model = XGBClassifier(\n",
        "    objective='binary:logistic',\n",
        "    learning_rate=0.001,\n",
        "    subsample=0.9,\n",
        "    random_state=7\n",
        ")\n",
        "\n",
        "# Inicializo GridSearchCV\n",
        "grid_search = GridSearchCV(\n",
        "    estimator=base_model,\n",
        "    param_grid=param_grid,\n",
        "    scoring='recall',\n",
        "    cv=3,  # Número de divisiones en la validación cruzada\n",
        "    verbose=1,\n",
        "    n_jobs=-1  # Usar todos los núcleos disponibles\n",
        ")\n",
        "\n",
        "# Realizar la búsqueda en la cuadrícula\n",
        "grid_search.fit(X_train_resampled, y_train_resampled)\n",
        "\n",
        "# Obtener los mejores parámetros y el mejor modelo\n",
        "best_params = grid_search.best_params_\n",
        "best_model = grid_search.best_estimator_\n",
        "\n",
        "# Imprimir resultados\n",
        "print(\"Mejores parámetros:\", best_params)\n",
        "print(\"Mejor modelo:\", best_model)\n",
        "\n",
        "# Predecir en el conjunto de validación con el mejor modelo\n",
        "y_val_pred_best = best_model.predict(X_val)\n",
        "\n",
        "# Calcular métricas para el conjunto de validación con el mejor modelo\n",
        "val_recall_best = recall_score(y_val, y_val_pred_best)\n",
        "\n",
        "# Imprimir recall con el mejor modelo\n",
        "print(f\"Recall con los mejores parámetros en el conjunto de validación: {val_recall_best:.4f}\")\n"
      ]
    },
    {
      "cell_type": "markdown",
      "source": [
        "---\n",
        "\n",
        "**XGboost con muestra mejor balanceada y optimización de hiperparámetros**\n",
        "\n",
        "---\n"
      ],
      "metadata": {
        "id": "uiLgryS7UHkh"
      }
    },
    {
      "cell_type": "markdown",
      "source": [
        "Entreno el modelo que mejor performó en el grid search"
      ],
      "metadata": {
        "id": "7ey9dNORoIpZ"
      }
    },
    {
      "cell_type": "code",
      "source": [
        "# Crear y entrenar el modelo XGBoost en el conjunto de entrenamiento balanceado\n",
        "# xgb_model = XGBClassifier(random_state=7)\n",
        "xgb_model = XGBClassifier(\n",
        "    objective='binary:logistic',\n",
        "    learning_rate=0.001,\n",
        "    n_estimators=200,\n",
        "    max_depth=2,\n",
        "    subsample=0.9,\n",
        "    colsample_bytree=0.6,\n",
        "    random_state=7\n",
        ")\n",
        "\n",
        "xgb_model.fit(X_train_resampled, y_train_resampled)\n",
        "\n",
        "# Predecir en el conjunto de entrenamiento\n",
        "y_train_pred = xgb_model.predict(X_train_resampled)\n",
        "\n",
        "# Predecir en el conjunto de validación\n",
        "y_val_pred = xgb_model.predict(X_val)\n",
        "\n",
        "# Calcular métricas para el conjunto de entrenamiento\n",
        "train_accuracy = accuracy_score(y_train_resampled, y_train_pred)\n",
        "train_precision = precision_score(y_train_resampled, y_train_pred)\n",
        "train_recall = recall_score(y_train_resampled, y_train_pred)\n",
        "train_f1 = f1_score(y_train_resampled, y_train_pred)\n",
        "\n",
        "# Calcular métricas para el conjunto de validación\n",
        "val_accuracy = accuracy_score(y_val, y_val_pred)\n",
        "val_precision = precision_score(y_val, y_val_pred)\n",
        "val_recall = recall_score(y_val, y_val_pred)\n",
        "val_f1 = f1_score(y_val, y_val_pred)\n",
        "\n",
        "# Armo df con las métricas\n",
        "metrics_df = pd.DataFrame({\n",
        "    'Metrica': ['Accuracy', 'Precision', 'Recall', 'F1-Score'],\n",
        "    'Entrenamiento': [train_accuracy, train_precision, train_recall, train_f1],\n",
        "    'Validacion': [val_accuracy, val_precision, val_recall, val_f1]\n",
        "})\n",
        "metrics_df = metrics_df.set_index('Metrica')\n",
        "\n",
        "# Calcular métricas para cada clase\n",
        "classification_rep = classification_report(y_val, y_val_pred, target_names=['No reclama', 'Reclama'])\n",
        "\n",
        "# Resultados\n",
        "print(\"Resultados en train y validación\")\n",
        "print(metrics_df)\n",
        "\n",
        "# Imprimir métricas por clase\n",
        "print()\n",
        "print(\"Classification Report:\")\n",
        "print(classification_rep)"
      ],
      "metadata": {
        "colab": {
          "base_uri": "https://localhost:8080/"
        },
        "id": "As0Xnb11SsRX",
        "outputId": "3c152c7f-77e8-4fb7-f4c2-6a661cccd80b"
      },
      "execution_count": null,
      "outputs": [
        {
          "output_type": "stream",
          "name": "stdout",
          "text": [
            "Resultados en train y validación\n",
            "           Entrenamiento  Validacion\n",
            "Metrica                             \n",
            "Accuracy        0.732491    0.550117\n",
            "Precision       0.664288    0.135817\n",
            "Recall          0.940061    0.831343\n",
            "F1-Score        0.778473    0.233489\n",
            "\n",
            "Classification Report:\n",
            "              precision    recall  f1-score   support\n",
            "\n",
            "  No reclama       0.97      0.52      0.68     74590\n",
            "     Reclama       0.14      0.83      0.23      6700\n",
            "\n",
            "    accuracy                           0.55     81290\n",
            "   macro avg       0.55      0.68      0.46     81290\n",
            "weighted avg       0.90      0.55      0.64     81290\n",
            "\n"
          ]
        }
      ]
    },
    {
      "cell_type": "markdown",
      "source": [
        "**Comentario:**\n",
        "\n",
        "Luego de la optimización de hiperparámetros el modelo alcanza un recall de 0,83"
      ],
      "metadata": {
        "id": "zIflIKYpoNET"
      }
    },
    {
      "cell_type": "markdown",
      "source": [
        "---\n",
        "\n",
        "**Feature importance para las 15 variables más explicativas del último modelo**\n",
        "\n",
        "---\n"
      ],
      "metadata": {
        "id": "dhB1Q0OTUUTJ"
      }
    },
    {
      "cell_type": "code",
      "execution_count": null,
      "metadata": {
        "colab": {
          "base_uri": "https://localhost:8080/",
          "height": 651
        },
        "id": "2WjXgdP6uGMj",
        "outputId": "792a7d5b-28f0-445c-ba2b-04bbfc1b3b1a"
      },
      "outputs": [
        {
          "output_type": "stream",
          "name": "stderr",
          "text": [
            "<ipython-input-61-674bc659a3be>:18: FutureWarning: \n",
            "\n",
            "Passing `palette` without assigning `hue` is deprecated and will be removed in v0.14.0. Assign the `y` variable to `hue` and set `legend=False` for the same effect.\n",
            "\n",
            "  ax = sns.barplot(x='Importance', y='Feature', data=top_15_features, palette='viridis')\n"
          ]
        },
        {
          "output_type": "display_data",
          "data": {
            "text/plain": [
              "<Figure size 1000x600 with 1 Axes>"
            ],
            "image/png": "[encoded data removed]"
          },
          "metadata": {}
        }
      ],
      "source": [
        "importances = xgb_model.feature_importances_\n",
        "feature_names = X_train.columns\n",
        "\n",
        "# Calcular importancias relativas en porcentajes\n",
        "relative_importances = 100 * (importances / importances.sum())\n",
        "\n",
        "# Crear un DataFrame con las características y sus importancias relativas\n",
        "feature_importance_df = pd.DataFrame({'Feature': feature_names, 'Importance': relative_importances})\n",
        "\n",
        "# Ordenar el DataFrame por importancia en orden descendente\n",
        "feature_importance_df = feature_importance_df.sort_values(by='Importance', ascending=False)\n",
        "\n",
        "# Seleccionar las primeras 15 variables más importantes\n",
        "top_15_features = feature_importance_df.head(15)\n",
        "\n",
        "# Graficar la importancia de las características\n",
        "plt.figure(figsize=(10, 6))\n",
        "ax = sns.barplot(x='Importance', y='Feature', data=top_15_features, palette='viridis')\n",
        "plt.title('XGBoost Top 15 Feature Importance')\n",
        "plt.xlabel('Importance (%)')\n",
        "plt.ylabel('Features')\n",
        "\n",
        "# Agregar etiquetas de porcentaje a la derecha de cada barra\n",
        "for index, value in enumerate(top_15_features['Importance']):\n",
        "    ax.text(value + 0.5, index, f'{value:.1f}%', ha='left', va='center', color='black', fontsize=10)\n",
        "\n",
        "plt.show()\n",
        "\n"
      ]
    },
    {
      "cell_type": "markdown",
      "source": [
        "**Comentario:**\n",
        "\n",
        "Al ver cuánto poder explicativo aporta cada variable al modelo, se observa las 5 primeras variables aportan el 74,7% del poder explicativo. Donde las 5 variables son en realidad el valor asegurado, la prima y algunas transformaciones de ellas. A diferencia del mejor modelo de random forest, acá pareciera tener más importancia el valor asegurado, mientras que allá la prima. Además, hay menos features que concentran mayor poder explicativo"
      ],
      "metadata": {
        "id": "uyQSXn9ApVe5"
      }
    },
    {
      "cell_type": "markdown",
      "source": [
        "\n",
        "### Red neuronal\n"
      ],
      "metadata": {
        "id": "slqNpPnAz615"
      }
    },
    {
      "cell_type": "markdown",
      "source": [
        "---\n",
        "\n",
        "**Red neuronal con dos capas ocultas de 64 y 32 neuronas respectivamente**\n",
        "\n",
        "---\n"
      ],
      "metadata": {
        "id": "xg0xscQOynRf"
      }
    },
    {
      "cell_type": "code",
      "execution_count": null,
      "metadata": {
        "colab": {
          "base_uri": "https://localhost:8080/"
        },
        "id": "54V1GbQNriMn",
        "outputId": "6c0c8b1d-38ba-4f65-ecbd-f9576f32e125"
      },
      "outputs": [
        {
          "output_type": "stream",
          "name": "stdout",
          "text": [
            "Epoch 1/8\n",
            "9340/9340 [==============================] - 26s 3ms/step - loss: nan - recall_2: 2.0077e-04 - precision_2: 0.5405 - accuracy: 0.5000 - f1_score: 4.0139e-04 - val_loss: nan - val_recall_2: 0.0000e+00 - val_precision_2: 0.0000e+00 - val_accuracy: 0.9176 - val_f1_score: 0.0000e+00\n",
            "Epoch 2/8\n",
            "9340/9340 [==============================] - 23s 2ms/step - loss: nan - recall_2: 0.0000e+00 - precision_2: 0.0000e+00 - accuracy: 0.5000 - f1_score: 0.0000e+00 - val_loss: nan - val_recall_2: 0.0000e+00 - val_precision_2: 0.0000e+00 - val_accuracy: 0.9176 - val_f1_score: 0.0000e+00\n",
            "Epoch 3/8\n",
            "9340/9340 [==============================] - 23s 2ms/step - loss: nan - recall_2: 0.0000e+00 - precision_2: 0.0000e+00 - accuracy: 0.5000 - f1_score: 0.0000e+00 - val_loss: nan - val_recall_2: 0.0000e+00 - val_precision_2: 0.0000e+00 - val_accuracy: 0.9176 - val_f1_score: 0.0000e+00\n",
            "Epoch 4/8\n",
            "9340/9340 [==============================] - 23s 3ms/step - loss: nan - recall_2: 0.0000e+00 - precision_2: 0.0000e+00 - accuracy: 0.5000 - f1_score: 0.0000e+00 - val_loss: nan - val_recall_2: 0.0000e+00 - val_precision_2: 0.0000e+00 - val_accuracy: 0.9176 - val_f1_score: 0.0000e+00\n",
            "Epoch 5/8\n",
            "9340/9340 [==============================] - 30s 3ms/step - loss: nan - recall_2: 0.0000e+00 - precision_2: 0.0000e+00 - accuracy: 0.5000 - f1_score: 0.0000e+00 - val_loss: nan - val_recall_2: 0.0000e+00 - val_precision_2: 0.0000e+00 - val_accuracy: 0.9176 - val_f1_score: 0.0000e+00\n",
            "Epoch 6/8\n",
            "9340/9340 [==============================] - 29s 3ms/step - loss: nan - recall_2: 0.0000e+00 - precision_2: 0.0000e+00 - accuracy: 0.5000 - f1_score: 0.0000e+00 - val_loss: nan - val_recall_2: 0.0000e+00 - val_precision_2: 0.0000e+00 - val_accuracy: 0.9176 - val_f1_score: 0.0000e+00\n",
            "Epoch 7/8\n",
            "9340/9340 [==============================] - 23s 2ms/step - loss: nan - recall_2: 0.0000e+00 - precision_2: 0.0000e+00 - accuracy: 0.5000 - f1_score: 0.0000e+00 - val_loss: nan - val_recall_2: 0.0000e+00 - val_precision_2: 0.0000e+00 - val_accuracy: 0.9176 - val_f1_score: 0.0000e+00\n",
            "Epoch 8/8\n",
            "9340/9340 [==============================] - 23s 2ms/step - loss: nan - recall_2: 0.0000e+00 - precision_2: 0.0000e+00 - accuracy: 0.5000 - f1_score: 0.0000e+00 - val_loss: nan - val_recall_2: 0.0000e+00 - val_precision_2: 0.0000e+00 - val_accuracy: 0.9176 - val_f1_score: 0.0000e+00\n",
            "2541/2541 [==============================] - 5s 2ms/step - loss: nan - recall_2: 0.0000e+00 - precision_2: 0.0000e+00 - accuracy: 0.9176 - f1_score: 0.0000e+00\n"
          ]
        },
        {
          "output_type": "execute_result",
          "data": {
            "text/plain": [
              "[nan, 0.0, 0.0, 0.9175790548324585, array([0.], dtype=float32)]"
            ]
          },
          "metadata": {},
          "execution_count": 74
        }
      ],
      "source": [
        "# Inicializar y ajustar el modelo de red neuronal densa\n",
        "dense_model = Sequential([\n",
        "    Dense(64, activation='relu', input_shape=(X_train_resampled.shape[1],)),\n",
        "    Dense(32, activation='relu'),\n",
        "    Dense(1, activation='sigmoid')  # 1 neurona de salida para clasificación binaria\n",
        "])\n",
        "\n",
        "dense_model.compile(optimizer='adam', loss='binary_crossentropy', metrics=[keras.metrics.Recall(), keras.metrics.Precision(), 'accuracy', keras.metrics.F1Score()])\n",
        "\n",
        "# Entrenar el modelo en el conjunto de entrenamiento balanceado\n",
        "dense_model.fit(X_train_resampled, y_train_resampled, epochs=8, batch_size=64, validation_data=(X_val, y_val))\n",
        "\n",
        "# Evaluar el modelo en el conjunto de validación\n",
        "dense_model.evaluate(X_val, y_val)"
      ]
    },
    {
      "cell_type": "markdown",
      "source": [
        "**Comentario:**\n",
        "\n",
        "Aún entrenando la red neuronal con los conjuntos rebalanceados y después de probar diferentes arquitecturas no consigo mejorar el recall que se mantiene en 0 para el conjunto de validación"
      ],
      "metadata": {
        "id": "8pdBDcm0yuaX"
      }
    },
    {
      "cell_type": "markdown",
      "source": [
        "\n",
        "## Elección del modelo final y predicción de test\n"
      ],
      "metadata": {
        "id": "_lH6_wlg0QG2"
      }
    },
    {
      "cell_type": "markdown",
      "source": [
        "La decisión de dedicar mayor tiempo a optimizar los modelos de Random Forest y Xgboost responde, por un lado, al hecho de que son modelos que manejan bien datos categóricos y numéricos al mismo tiempo, y por otro, a que al entrenar y ensamblar árboles con una submuestra de filas y columnas permite reducir overfitting y generar mejor entendimiento de cuáles son las variables que mayor poder explicativo aportan.\n",
        "\n",
        "**Elección de modelo final:**  para predecir los resultados en test voy a elegir el random forest que obtuvo un recall de 0,88. Para ello, antes debo hacerle a la base de test el mismo feature engenieering que a la base de entrenamiento."
      ],
      "metadata": {
        "id": "xmoSnTwk0mSp"
      }
    },
    {
      "cell_type": "markdown",
      "source": [
        "### Ajustes en set de test"
      ],
      "metadata": {
        "id": "Qq8owabt12kF"
      }
    },
    {
      "cell_type": "code",
      "source": [
        "test = df_test.merge(df_ve, on='VEHICLE_ID', how='left')\n",
        "test.head()"
      ],
      "metadata": {
        "colab": {
          "base_uri": "https://localhost:8080/",
          "height": 206
        },
        "id": "xBv--WS_0ZMq",
        "outputId": "8666ca82-bb90-4fb4-c092-19624071e7eb"
      },
      "execution_count": null,
      "outputs": [
        {
          "output_type": "execute_result",
          "data": {
            "text/plain": [
              "     POLICY_ID INSR_BEGIN   INSR_END  CUSTOMER_SENIORITY     SEX INSR_TYPE  \\\n",
              "0  300439992.0 2017-08-08 2018-08-07                 0.0    Male      1202   \n",
              "1  300476572.0 2017-08-08 2018-08-07                 2.0  Female      1201   \n",
              "2  300485215.0 2017-08-08 2018-08-07                 0.0  Female      1201   \n",
              "3  300477745.0 2017-08-08 2018-08-07                 0.0  Female      1201   \n",
              "4  300477746.0 2017-08-08 2018-08-07                 0.0  Female      1201   \n",
              "\n",
              "   INSURED_VALUE   PREMIUM    VEHICLE_ID                   USAGE  PROD_YEAR  \\\n",
              "0           0.00    347.70  5.000995e+09  Fare Paying Passengers     2016.0   \n",
              "1     1515442.28  17045.52  5.001114e+09                 Private     2015.0   \n",
              "2     3200000.00  18088.33  5.001174e+09                 Private     2017.0   \n",
              "3      418528.41   5140.66  5.001113e+09                 Private     2017.0   \n",
              "4      418528.41   5140.66  5.001113e+09                 Private     2017.0   \n",
              "\n",
              "   SEATS_NUM  CARRYING_CAPACITY     TYPE_VEHICLE  CCM_TON        MAKE  \n",
              "0        3.0                0.0      Motor-cycle    200.0      BAJAJI  \n",
              "1        8.0                NaN  Station Wagones   4164.0  MITSUBISHI  \n",
              "2        8.0                NaN  Station Wagones   4164.0      TOYOTA  \n",
              "3        4.0                NaN       Automobile   2400.0        BAIC  \n",
              "4        4.0                NaN       Automobile   2400.0        BAIC  "
            ],
            "text/html": [
              "\n",
              "  <div id=\"df-693aee8c-16c3-4b15-84e5-13f80b66ac25\" class=\"colab-df-container\">\n",
              "    <div>\n",
              "<style scoped>\n",
              "    .dataframe tbody tr th:only-of-type {\n",
              "        vertical-align: middle;\n",
              "    }\n",
              "\n",
              "    .dataframe tbody tr th {\n",
              "        vertical-align: top;\n",
              "    }\n",
              "\n",
              "    .dataframe thead th {\n",
              "        text-align: right;\n",
              "    }\n",
              "</style>\n",
              "<table border=\"1\" class=\"dataframe\">\n",
              "  <thead>\n",
              "    <tr style=\"text-align: right;\">\n",
              "      <th></th>\n",
              "      <th>POLICY_ID</th>\n",
              "      <th>INSR_BEGIN</th>\n",
              "      <th>INSR_END</th>\n",
              "      <th>CUSTOMER_SENIORITY</th>\n",
              "      <th>SEX</th>\n",
              "      <th>INSR_TYPE</th>\n",
              "      <th>INSURED_VALUE</th>\n",
              "      <th>PREMIUM</th>\n",
              "      <th>VEHICLE_ID</th>\n",
              "      <th>USAGE</th>\n",
              "      <th>PROD_YEAR</th>\n",
              "      <th>SEATS_NUM</th>\n",
              "      <th>CARRYING_CAPACITY</th>\n",
              "      <th>TYPE_VEHICLE</th>\n",
              "      <th>CCM_TON</th>\n",
              "      <th>MAKE</th>\n",
              "    </tr>\n",
              "  </thead>\n",
              "  <tbody>\n",
              "    <tr>\n",
              "      <th>0</th>\n",
              "      <td>300439992.0</td>\n",
              "      <td>2017-08-08</td>\n",
              "      <td>2018-08-07</td>\n",
              "      <td>0.0</td>\n",
              "      <td>Male</td>\n",
              "      <td>1202</td>\n",
              "      <td>0.00</td>\n",
              "      <td>347.70</td>\n",
              "      <td>5.000995e+09</td>\n",
              "      <td>Fare Paying Passengers</td>\n",
              "      <td>2016.0</td>\n",
              "      <td>3.0</td>\n",
              "      <td>0.0</td>\n",
              "      <td>Motor-cycle</td>\n",
              "      <td>200.0</td>\n",
              "      <td>BAJAJI</td>\n",
              "    </tr>\n",
              "    <tr>\n",
              "      <th>1</th>\n",
              "      <td>300476572.0</td>\n",
              "      <td>2017-08-08</td>\n",
              "      <td>2018-08-07</td>\n",
              "      <td>2.0</td>\n",
              "      <td>Female</td>\n",
              "      <td>1201</td>\n",
              "      <td>1515442.28</td>\n",
              "      <td>17045.52</td>\n",
              "      <td>5.001114e+09</td>\n",
              "      <td>Private</td>\n",
              "      <td>2015.0</td>\n",
              "      <td>8.0</td>\n",
              "      <td>NaN</td>\n",
              "      <td>Station Wagones</td>\n",
              "      <td>4164.0</td>\n",
              "      <td>MITSUBISHI</td>\n",
              "    </tr>\n",
              "    <tr>\n",
              "      <th>2</th>\n",
              "      <td>300485215.0</td>\n",
              "      <td>2017-08-08</td>\n",
              "      <td>2018-08-07</td>\n",
              "      <td>0.0</td>\n",
              "      <td>Female</td>\n",
              "      <td>1201</td>\n",
              "      <td>3200000.00</td>\n",
              "      <td>18088.33</td>\n",
              "      <td>5.001174e+09</td>\n",
              "      <td>Private</td>\n",
              "      <td>2017.0</td>\n",
              "      <td>8.0</td>\n",
              "      <td>NaN</td>\n",
              "      <td>Station Wagones</td>\n",
              "      <td>4164.0</td>\n",
              "      <td>TOYOTA</td>\n",
              "    </tr>\n",
              "    <tr>\n",
              "      <th>3</th>\n",
              "      <td>300477745.0</td>\n",
              "      <td>2017-08-08</td>\n",
              "      <td>2018-08-07</td>\n",
              "      <td>0.0</td>\n",
              "      <td>Female</td>\n",
              "      <td>1201</td>\n",
              "      <td>418528.41</td>\n",
              "      <td>5140.66</td>\n",
              "      <td>5.001113e+09</td>\n",
              "      <td>Private</td>\n",
              "      <td>2017.0</td>\n",
              "      <td>4.0</td>\n",
              "      <td>NaN</td>\n",
              "      <td>Automobile</td>\n",
              "      <td>2400.0</td>\n",
              "      <td>BAIC</td>\n",
              "    </tr>\n",
              "    <tr>\n",
              "      <th>4</th>\n",
              "      <td>300477746.0</td>\n",
              "      <td>2017-08-08</td>\n",
              "      <td>2018-08-07</td>\n",
              "      <td>0.0</td>\n",
              "      <td>Female</td>\n",
              "      <td>1201</td>\n",
              "      <td>418528.41</td>\n",
              "      <td>5140.66</td>\n",
              "      <td>5.001113e+09</td>\n",
              "      <td>Private</td>\n",
              "      <td>2017.0</td>\n",
              "      <td>4.0</td>\n",
              "      <td>NaN</td>\n",
              "      <td>Automobile</td>\n",
              "      <td>2400.0</td>\n",
              "      <td>BAIC</td>\n",
              "    </tr>\n",
              "  </tbody>\n",
              "</table>\n",
              "</div>\n",
              "    <div class=\"colab-df-buttons\">\n",
              "\n",
              "  <div class=\"colab-df-container\">\n",
              "    <button class=\"colab-df-convert\" onclick=\"convertToInteractive('df-693aee8c-16c3-4b15-84e5-13f80b66ac25')\"\n",
              "            title=\"Convert this dataframe to an interactive table.\"\n",
              "            style=\"display:none;\">\n",
              "\n",
              "  <svg xmlns=\"http://www.w3.org/2000/svg\" height=\"24px\" viewBox=\"0 -960 960 960\">\n",
              "    <path d=\"M120-120v-720h720v720H120Zm60-500h600v-160H180v160Zm220 220h160v-160H400v160Zm0 220h160v-160H400v160ZM180-400h160v-160H180v160Zm440 0h160v-160H620v160ZM180-180h160v-160H180v160Zm440 0h160v-160H620v160Z\"/>\n",
              "  </svg>\n",
              "    </button>\n",
              "\n",
              "  <style>\n",
              "    .colab-df-container {\n",
              "      display:flex;\n",
              "      gap: 12px;\n",
              "    }\n",
              "\n",
              "    .colab-df-convert {\n",
              "      background-color: #E8F0FE;\n",
              "      border: none;\n",
              "      border-radius: 50%;\n",
              "      cursor: pointer;\n",
              "      display: none;\n",
              "      fill: #1967D2;\n",
              "      height: 32px;\n",
              "      padding: 0 0 0 0;\n",
              "      width: 32px;\n",
              "    }\n",
              "\n",
              "    .colab-df-convert:hover {\n",
              "      background-color: #E2EBFA;\n",
              "      box-shadow: 0px 1px 2px rgba(60, 64, 67, 0.3), 0px 1px 3px 1px rgba(60, 64, 67, 0.15);\n",
              "      fill: #174EA6;\n",
              "    }\n",
              "\n",
              "    .colab-df-buttons div {\n",
              "      margin-bottom: 4px;\n",
              "    }\n",
              "\n",
              "    [theme=dark] .colab-df-convert {\n",
              "      background-color: #3B4455;\n",
              "      fill: #D2E3FC;\n",
              "    }\n",
              "\n",
              "    [theme=dark] .colab-df-convert:hover {\n",
              "      background-color: #434B5C;\n",
              "      box-shadow: 0px 1px 3px 1px rgba(0, 0, 0, 0.15);\n",
              "      filter: drop-shadow(0px 1px 2px rgba(0, 0, 0, 0.3));\n",
              "      fill: #FFFFFF;\n",
              "    }\n",
              "  </style>\n",
              "\n",
              "    <script>\n",
              "      const buttonEl =\n",
              "        document.querySelector('#df-693aee8c-16c3-4b15-84e5-13f80b66ac25 button.colab-df-convert');\n",
              "      buttonEl.style.display =\n",
              "        google.colab.kernel.accessAllowed ? 'block' : 'none';\n",
              "\n",
              "      async function convertToInteractive(key) {\n",
              "        const element = document.querySelector('#df-693aee8c-16c3-4b15-84e5-13f80b66ac25');\n",
              "        const dataTable =\n",
              "          await google.colab.kernel.invokeFunction('convertToInteractive',\n",
              "                                                    [key], {});\n",
              "        if (!dataTable) return;\n",
              "\n",
              "        const docLinkHtml = 'Like what you see? Visit the ' +\n",
              "          '<a target=\"_blank\" href=https://colab.research.google.com/notebooks/data_table.ipynb>data table notebook</a>'\n",
              "          + ' to learn more about interactive tables.';\n",
              "        element.innerHTML = '';\n",
              "        dataTable['output_type'] = 'display_data';\n",
              "        await google.colab.output.renderOutput(dataTable, element);\n",
              "        const docLink = document.createElement('div');\n",
              "        docLink.innerHTML = docLinkHtml;\n",
              "        element.appendChild(docLink);\n",
              "      }\n",
              "    </script>\n",
              "  </div>\n",
              "\n",
              "\n",
              "<div id=\"df-07d62d31-9e9b-4b7c-8148-533cc6738f3a\">\n",
              "  <button class=\"colab-df-quickchart\" onclick=\"quickchart('df-07d62d31-9e9b-4b7c-8148-533cc6738f3a')\"\n",
              "            title=\"Suggest charts\"\n",
              "            style=\"display:none;\">\n",
              "\n",
              "<svg xmlns=\"http://www.w3.org/2000/svg\" height=\"24px\"viewBox=\"0 0 24 24\"\n",
              "     width=\"24px\">\n",
              "    <g>\n",
              "        <path d=\"M19 3H5c-1.1 0-2 .9-2 2v14c0 1.1.9 2 2 2h14c1.1 0 2-.9 2-2V5c0-1.1-.9-2-2-2zM9 17H7v-7h2v7zm4 0h-2V7h2v10zm4 0h-2v-4h2v4z\"/>\n",
              "    </g>\n",
              "</svg>\n",
              "  </button>\n",
              "\n",
              "<style>\n",
              "  .colab-df-quickchart {\n",
              "      --bg-color: #E8F0FE;\n",
              "      --fill-color: #1967D2;\n",
              "      --hover-bg-color: #E2EBFA;\n",
              "      --hover-fill-color: #174EA6;\n",
              "      --disabled-fill-color: #AAA;\n",
              "      --disabled-bg-color: #DDD;\n",
              "  }\n",
              "\n",
              "  [theme=dark] .colab-df-quickchart {\n",
              "      --bg-color: #3B4455;\n",
              "      --fill-color: #D2E3FC;\n",
              "      --hover-bg-color: #434B5C;\n",
              "      --hover-fill-color: #FFFFFF;\n",
              "      --disabled-bg-color: #3B4455;\n",
              "      --disabled-fill-color: #666;\n",
              "  }\n",
              "\n",
              "  .colab-df-quickchart {\n",
              "    background-color: var(--bg-color);\n",
              "    border: none;\n",
              "    border-radius: 50%;\n",
              "    cursor: pointer;\n",
              "    display: none;\n",
              "    fill: var(--fill-color);\n",
              "    height: 32px;\n",
              "    padding: 0;\n",
              "    width: 32px;\n",
              "  }\n",
              "\n",
              "  .colab-df-quickchart:hover {\n",
              "    background-color: var(--hover-bg-color);\n",
              "    box-shadow: 0 1px 2px rgba(60, 64, 67, 0.3), 0 1px 3px 1px rgba(60, 64, 67, 0.15);\n",
              "    fill: var(--button-hover-fill-color);\n",
              "  }\n",
              "\n",
              "  .colab-df-quickchart-complete:disabled,\n",
              "  .colab-df-quickchart-complete:disabled:hover {\n",
              "    background-color: var(--disabled-bg-color);\n",
              "    fill: var(--disabled-fill-color);\n",
              "    box-shadow: none;\n",
              "  }\n",
              "\n",
              "  .colab-df-spinner {\n",
              "    border: 2px solid var(--fill-color);\n",
              "    border-color: transparent;\n",
              "    border-bottom-color: var(--fill-color);\n",
              "    animation:\n",
              "      spin 1s steps(1) infinite;\n",
              "  }\n",
              "\n",
              "  @keyframes spin {\n",
              "    0% {\n",
              "      border-color: transparent;\n",
              "      border-bottom-color: var(--fill-color);\n",
              "      border-left-color: var(--fill-color);\n",
              "    }\n",
              "    20% {\n",
              "      border-color: transparent;\n",
              "      border-left-color: var(--fill-color);\n",
              "      border-top-color: var(--fill-color);\n",
              "    }\n",
              "    30% {\n",
              "      border-color: transparent;\n",
              "      border-left-color: var(--fill-color);\n",
              "      border-top-color: var(--fill-color);\n",
              "      border-right-color: var(--fill-color);\n",
              "    }\n",
              "    40% {\n",
              "      border-color: transparent;\n",
              "      border-right-color: var(--fill-color);\n",
              "      border-top-color: var(--fill-color);\n",
              "    }\n",
              "    60% {\n",
              "      border-color: transparent;\n",
              "      border-right-color: var(--fill-color);\n",
              "    }\n",
              "    80% {\n",
              "      border-color: transparent;\n",
              "      border-right-color: var(--fill-color);\n",
              "      border-bottom-color: var(--fill-color);\n",
              "    }\n",
              "    90% {\n",
              "      border-color: transparent;\n",
              "      border-bottom-color: var(--fill-color);\n",
              "    }\n",
              "  }\n",
              "</style>\n",
              "\n",
              "  <script>\n",
              "    async function quickchart(key) {\n",
              "      const quickchartButtonEl =\n",
              "        document.querySelector('#' + key + ' button');\n",
              "      quickchartButtonEl.disabled = true;  // To prevent multiple clicks.\n",
              "      quickchartButtonEl.classList.add('colab-df-spinner');\n",
              "      try {\n",
              "        const charts = await google.colab.kernel.invokeFunction(\n",
              "            'suggestCharts', [key], {});\n",
              "      } catch (error) {\n",
              "        console.error('Error during call to suggestCharts:', error);\n",
              "      }\n",
              "      quickchartButtonEl.classList.remove('colab-df-spinner');\n",
              "      quickchartButtonEl.classList.add('colab-df-quickchart-complete');\n",
              "    }\n",
              "    (() => {\n",
              "      let quickchartButtonEl =\n",
              "        document.querySelector('#df-07d62d31-9e9b-4b7c-8148-533cc6738f3a button');\n",
              "      quickchartButtonEl.style.display =\n",
              "        google.colab.kernel.accessAllowed ? 'block' : 'none';\n",
              "    })();\n",
              "  </script>\n",
              "</div>\n",
              "\n",
              "    </div>\n",
              "  </div>\n"
            ],
            "application/vnd.google.colaboratory.intrinsic+json": {
              "type": "dataframe",
              "variable_name": "test"
            }
          },
          "metadata": {},
          "execution_count": 169
        }
      ]
    },
    {
      "cell_type": "markdown",
      "source": [
        "\n",
        "\n",
        "---\n",
        "\n",
        "Me fijo que los nulos tengan distirbución parecida al set de entrenamiento\n",
        "\n",
        "---\n",
        "\n"
      ],
      "metadata": {
        "id": "mxfjle1p33_1"
      }
    },
    {
      "cell_type": "code",
      "source": [
        "porcentaje_nulos = (test.isnull().sum() / len(test)) * 100\n",
        "num_nulos = test.isnull().sum()\n",
        "\n",
        "# Armo df para visualizar el share de nulos\n",
        "df_porcentaje_nulos = pd.DataFrame({'Variable': porcentaje_nulos.index, 'Porcentaje_Nulos': porcentaje_nulos.values})\n",
        "\n",
        "# Ordeno por porcentaje descendente\n",
        "df_porcentaje_nulos = df_porcentaje_nulos.sort_values(by='Porcentaje_Nulos', ascending=False)\n",
        "\n",
        "# Gráfico de share de nulos\n",
        "plt.figure(figsize=(15, 6))\n",
        "\n",
        "plt.subplot(1, 2, 1)\n",
        "barplot_share = sns.barplot(x='Porcentaje_Nulos', y='Variable', data=df_porcentaje_nulos)\n",
        "plt.title('Share de nulos')\n",
        "plt.xlabel('Porcentaje de Valores Nulos')\n",
        "\n",
        "# Añadir etiquetas de porcentaje de nulos\n",
        "for index, value in enumerate(df_porcentaje_nulos['Porcentaje_Nulos']):\n",
        "    barplot_share.text(value + 1, index, f'{value:.1f}%', va='center')\n",
        "\n",
        "# Armo df para visualizar el número absoluto de nulos\n",
        "df_num_nulos = pd.DataFrame({'Variable': num_nulos.index, 'Num_Nulos': num_nulos.values})\n",
        "\n",
        "# Ordeno por número absoluto de nulos descendente\n",
        "df_num_nulos = df_num_nulos.sort_values(by='Num_Nulos', ascending=False)\n",
        "\n",
        "# Gráfico de número absoluto de nulos\n",
        "plt.subplot(1, 2, 2)\n",
        "barplot_num = sns.barplot(x='Num_Nulos', y='Variable', data=df_num_nulos, color='orange')\n",
        "plt.title('Número Absoluto de Nulos')\n",
        "plt.xlabel('Número de Valores Nulos')\n",
        "\n",
        "# Añadir etiquetas de número absoluto de nulos\n",
        "for index, value in enumerate(df_num_nulos['Num_Nulos']):\n",
        "    barplot_num.text(value + 1, index, f'{value}', va='center')\n",
        "\n",
        "plt.tight_layout()\n",
        "plt.show()\n"
      ],
      "metadata": {
        "colab": {
          "base_uri": "https://localhost:8080/",
          "height": 607
        },
        "id": "XXap8-Zu2AYB",
        "outputId": "51b4f4d7-507c-48a7-ebb0-23aad9da697f"
      },
      "execution_count": null,
      "outputs": [
        {
          "output_type": "display_data",
          "data": {
            "text/plain": [
              "<Figure size 1500x600 with 2 Axes>"
            ],
            "image/png": "[encoded data removed]"
          },
          "metadata": {}
        }
      ]
    },
    {
      "cell_type": "code",
      "source": [
        "test.describe()"
      ],
      "metadata": {
        "colab": {
          "base_uri": "https://localhost:8080/",
          "height": 301
        },
        "id": "yXn-aUfW3D7U",
        "outputId": "853b32e9-53fb-477f-ee96-37d306f52cbf"
      },
      "execution_count": null,
      "outputs": [
        {
          "output_type": "execute_result",
          "data": {
            "text/plain": [
              "          POLICY_ID  CUSTOMER_SENIORITY  INSURED_VALUE        PREMIUM  \\\n",
              "count  1.019880e+05       101988.000000   1.019880e+05  101984.000000   \n",
              "mean   3.003385e+08            4.661990   5.124256e+05    7443.237315   \n",
              "std    1.526447e+05            6.175821   9.106809e+05   11649.278709   \n",
              "min    3.000000e+08            0.000000   0.000000e+00       0.000000   \n",
              "25%    3.002083e+08            1.000000   0.000000e+00     462.700000   \n",
              "50%    3.003891e+08            2.000000   0.000000e+00    1949.300000   \n",
              "75%    3.004804e+08            6.000000   8.000000e+05    9052.392500   \n",
              "max    3.005084e+08           59.000000   3.625609e+07  185301.700000   \n",
              "\n",
              "         VEHICLE_ID      PROD_YEAR      SEATS_NUM  CARRYING_CAPACITY  \\\n",
              "count  1.019880e+05  101988.000000  101982.000000       79569.000000   \n",
              "mean   5.000789e+09    2008.280739       5.503628         238.860718   \n",
              "std    3.816030e+05       9.334425      11.556062        2345.872712   \n",
              "min    5.000018e+09    1950.000000       0.000000           0.000000   \n",
              "25%    5.000503e+09    2004.000000       1.000000           0.000000   \n",
              "50%    5.000875e+09    2012.000000       3.000000           0.000000   \n",
              "75%    5.001136e+09    2015.000000       4.000000          10.000000   \n",
              "max    5.001351e+09    2018.000000     198.000000      224000.000000   \n",
              "\n",
              "             CCM_TON  \n",
              "count  101988.000000  \n",
              "mean     2797.795365  \n",
              "std      3321.797600  \n",
              "min         0.000000  \n",
              "25%       200.000000  \n",
              "50%      1971.000000  \n",
              "75%      4164.000000  \n",
              "max     19980.000000  "
            ],
            "text/html": [
              "\n",
              "  <div id=\"df-1523a9f3-e300-4d82-94bf-5c2f600f8172\" class=\"colab-df-container\">\n",
              "    <div>\n",
              "<style scoped>\n",
              "    .dataframe tbody tr th:only-of-type {\n",
              "        vertical-align: middle;\n",
              "    }\n",
              "\n",
              "    .dataframe tbody tr th {\n",
              "        vertical-align: top;\n",
              "    }\n",
              "\n",
              "    .dataframe thead th {\n",
              "        text-align: right;\n",
              "    }\n",
              "</style>\n",
              "<table border=\"1\" class=\"dataframe\">\n",
              "  <thead>\n",
              "    <tr style=\"text-align: right;\">\n",
              "      <th></th>\n",
              "      <th>POLICY_ID</th>\n",
              "      <th>CUSTOMER_SENIORITY</th>\n",
              "      <th>INSURED_VALUE</th>\n",
              "      <th>PREMIUM</th>\n",
              "      <th>VEHICLE_ID</th>\n",
              "      <th>PROD_YEAR</th>\n",
              "      <th>SEATS_NUM</th>\n",
              "      <th>CARRYING_CAPACITY</th>\n",
              "      <th>CCM_TON</th>\n",
              "    </tr>\n",
              "  </thead>\n",
              "  <tbody>\n",
              "    <tr>\n",
              "      <th>count</th>\n",
              "      <td>1.019880e+05</td>\n",
              "      <td>101988.000000</td>\n",
              "      <td>1.019880e+05</td>\n",
              "      <td>101984.000000</td>\n",
              "      <td>1.019880e+05</td>\n",
              "      <td>101988.000000</td>\n",
              "      <td>101982.000000</td>\n",
              "      <td>79569.000000</td>\n",
              "      <td>101988.000000</td>\n",
              "    </tr>\n",
              "    <tr>\n",
              "      <th>mean</th>\n",
              "      <td>3.003385e+08</td>\n",
              "      <td>4.661990</td>\n",
              "      <td>5.124256e+05</td>\n",
              "      <td>7443.237315</td>\n",
              "      <td>5.000789e+09</td>\n",
              "      <td>2008.280739</td>\n",
              "      <td>5.503628</td>\n",
              "      <td>238.860718</td>\n",
              "      <td>2797.795365</td>\n",
              "    </tr>\n",
              "    <tr>\n",
              "      <th>std</th>\n",
              "      <td>1.526447e+05</td>\n",
              "      <td>6.175821</td>\n",
              "      <td>9.106809e+05</td>\n",
              "      <td>11649.278709</td>\n",
              "      <td>3.816030e+05</td>\n",
              "      <td>9.334425</td>\n",
              "      <td>11.556062</td>\n",
              "      <td>2345.872712</td>\n",
              "      <td>3321.797600</td>\n",
              "    </tr>\n",
              "    <tr>\n",
              "      <th>min</th>\n",
              "      <td>3.000000e+08</td>\n",
              "      <td>0.000000</td>\n",
              "      <td>0.000000e+00</td>\n",
              "      <td>0.000000</td>\n",
              "      <td>5.000018e+09</td>\n",
              "      <td>1950.000000</td>\n",
              "      <td>0.000000</td>\n",
              "      <td>0.000000</td>\n",
              "      <td>0.000000</td>\n",
              "    </tr>\n",
              "    <tr>\n",
              "      <th>25%</th>\n",
              "      <td>3.002083e+08</td>\n",
              "      <td>1.000000</td>\n",
              "      <td>0.000000e+00</td>\n",
              "      <td>462.700000</td>\n",
              "      <td>5.000503e+09</td>\n",
              "      <td>2004.000000</td>\n",
              "      <td>1.000000</td>\n",
              "      <td>0.000000</td>\n",
              "      <td>200.000000</td>\n",
              "    </tr>\n",
              "    <tr>\n",
              "      <th>50%</th>\n",
              "      <td>3.003891e+08</td>\n",
              "      <td>2.000000</td>\n",
              "      <td>0.000000e+00</td>\n",
              "      <td>1949.300000</td>\n",
              "      <td>5.000875e+09</td>\n",
              "      <td>2012.000000</td>\n",
              "      <td>3.000000</td>\n",
              "      <td>0.000000</td>\n",
              "      <td>1971.000000</td>\n",
              "    </tr>\n",
              "    <tr>\n",
              "      <th>75%</th>\n",
              "      <td>3.004804e+08</td>\n",
              "      <td>6.000000</td>\n",
              "      <td>8.000000e+05</td>\n",
              "      <td>9052.392500</td>\n",
              "      <td>5.001136e+09</td>\n",
              "      <td>2015.000000</td>\n",
              "      <td>4.000000</td>\n",
              "      <td>10.000000</td>\n",
              "      <td>4164.000000</td>\n",
              "    </tr>\n",
              "    <tr>\n",
              "      <th>max</th>\n",
              "      <td>3.005084e+08</td>\n",
              "      <td>59.000000</td>\n",
              "      <td>3.625609e+07</td>\n",
              "      <td>185301.700000</td>\n",
              "      <td>5.001351e+09</td>\n",
              "      <td>2018.000000</td>\n",
              "      <td>198.000000</td>\n",
              "      <td>224000.000000</td>\n",
              "      <td>19980.000000</td>\n",
              "    </tr>\n",
              "  </tbody>\n",
              "</table>\n",
              "</div>\n",
              "    <div class=\"colab-df-buttons\">\n",
              "\n",
              "  <div class=\"colab-df-container\">\n",
              "    <button class=\"colab-df-convert\" onclick=\"convertToInteractive('df-1523a9f3-e300-4d82-94bf-5c2f600f8172')\"\n",
              "            title=\"Convert this dataframe to an interactive table.\"\n",
              "            style=\"display:none;\">\n",
              "\n",
              "  <svg xmlns=\"http://www.w3.org/2000/svg\" height=\"24px\" viewBox=\"0 -960 960 960\">\n",
              "    <path d=\"M120-120v-720h720v720H120Zm60-500h600v-160H180v160Zm220 220h160v-160H400v160Zm0 220h160v-160H400v160ZM180-400h160v-160H180v160Zm440 0h160v-160H620v160ZM180-180h160v-160H180v160Zm440 0h160v-160H620v160Z\"/>\n",
              "  </svg>\n",
              "    </button>\n",
              "\n",
              "  <style>\n",
              "    .colab-df-container {\n",
              "      display:flex;\n",
              "      gap: 12px;\n",
              "    }\n",
              "\n",
              "    .colab-df-convert {\n",
              "      background-color: #E8F0FE;\n",
              "      border: none;\n",
              "      border-radius: 50%;\n",
              "      cursor: pointer;\n",
              "      display: none;\n",
              "      fill: #1967D2;\n",
              "      height: 32px;\n",
              "      padding: 0 0 0 0;\n",
              "      width: 32px;\n",
              "    }\n",
              "\n",
              "    .colab-df-convert:hover {\n",
              "      background-color: #E2EBFA;\n",
              "      box-shadow: 0px 1px 2px rgba(60, 64, 67, 0.3), 0px 1px 3px 1px rgba(60, 64, 67, 0.15);\n",
              "      fill: #174EA6;\n",
              "    }\n",
              "\n",
              "    .colab-df-buttons div {\n",
              "      margin-bottom: 4px;\n",
              "    }\n",
              "\n",
              "    [theme=dark] .colab-df-convert {\n",
              "      background-color: #3B4455;\n",
              "      fill: #D2E3FC;\n",
              "    }\n",
              "\n",
              "    [theme=dark] .colab-df-convert:hover {\n",
              "      background-color: #434B5C;\n",
              "      box-shadow: 0px 1px 3px 1px rgba(0, 0, 0, 0.15);\n",
              "      filter: drop-shadow(0px 1px 2px rgba(0, 0, 0, 0.3));\n",
              "      fill: #FFFFFF;\n",
              "    }\n",
              "  </style>\n",
              "\n",
              "    <script>\n",
              "      const buttonEl =\n",
              "        document.querySelector('#df-1523a9f3-e300-4d82-94bf-5c2f600f8172 button.colab-df-convert');\n",
              "      buttonEl.style.display =\n",
              "        google.colab.kernel.accessAllowed ? 'block' : 'none';\n",
              "\n",
              "      async function convertToInteractive(key) {\n",
              "        const element = document.querySelector('#df-1523a9f3-e300-4d82-94bf-5c2f600f8172');\n",
              "        const dataTable =\n",
              "          await google.colab.kernel.invokeFunction('convertToInteractive',\n",
              "                                                    [key], {});\n",
              "        if (!dataTable) return;\n",
              "\n",
              "        const docLinkHtml = 'Like what you see? Visit the ' +\n",
              "          '<a target=\"_blank\" href=https://colab.research.google.com/notebooks/data_table.ipynb>data table notebook</a>'\n",
              "          + ' to learn more about interactive tables.';\n",
              "        element.innerHTML = '';\n",
              "        dataTable['output_type'] = 'display_data';\n",
              "        await google.colab.output.renderOutput(dataTable, element);\n",
              "        const docLink = document.createElement('div');\n",
              "        docLink.innerHTML = docLinkHtml;\n",
              "        element.appendChild(docLink);\n",
              "      }\n",
              "    </script>\n",
              "  </div>\n",
              "\n",
              "\n",
              "<div id=\"df-6a67f104-9a34-42bc-b6f8-b3afc6e62d20\">\n",
              "  <button class=\"colab-df-quickchart\" onclick=\"quickchart('df-6a67f104-9a34-42bc-b6f8-b3afc6e62d20')\"\n",
              "            title=\"Suggest charts\"\n",
              "            style=\"display:none;\">\n",
              "\n",
              "<svg xmlns=\"http://www.w3.org/2000/svg\" height=\"24px\"viewBox=\"0 0 24 24\"\n",
              "     width=\"24px\">\n",
              "    <g>\n",
              "        <path d=\"M19 3H5c-1.1 0-2 .9-2 2v14c0 1.1.9 2 2 2h14c1.1 0 2-.9 2-2V5c0-1.1-.9-2-2-2zM9 17H7v-7h2v7zm4 0h-2V7h2v10zm4 0h-2v-4h2v4z\"/>\n",
              "    </g>\n",
              "</svg>\n",
              "  </button>\n",
              "\n",
              "<style>\n",
              "  .colab-df-quickchart {\n",
              "      --bg-color: #E8F0FE;\n",
              "      --fill-color: #1967D2;\n",
              "      --hover-bg-color: #E2EBFA;\n",
              "      --hover-fill-color: #174EA6;\n",
              "      --disabled-fill-color: #AAA;\n",
              "      --disabled-bg-color: #DDD;\n",
              "  }\n",
              "\n",
              "  [theme=dark] .colab-df-quickchart {\n",
              "      --bg-color: #3B4455;\n",
              "      --fill-color: #D2E3FC;\n",
              "      --hover-bg-color: #434B5C;\n",
              "      --hover-fill-color: #FFFFFF;\n",
              "      --disabled-bg-color: #3B4455;\n",
              "      --disabled-fill-color: #666;\n",
              "  }\n",
              "\n",
              "  .colab-df-quickchart {\n",
              "    background-color: var(--bg-color);\n",
              "    border: none;\n",
              "    border-radius: 50%;\n",
              "    cursor: pointer;\n",
              "    display: none;\n",
              "    fill: var(--fill-color);\n",
              "    height: 32px;\n",
              "    padding: 0;\n",
              "    width: 32px;\n",
              "  }\n",
              "\n",
              "  .colab-df-quickchart:hover {\n",
              "    background-color: var(--hover-bg-color);\n",
              "    box-shadow: 0 1px 2px rgba(60, 64, 67, 0.3), 0 1px 3px 1px rgba(60, 64, 67, 0.15);\n",
              "    fill: var(--button-hover-fill-color);\n",
              "  }\n",
              "\n",
              "  .colab-df-quickchart-complete:disabled,\n",
              "  .colab-df-quickchart-complete:disabled:hover {\n",
              "    background-color: var(--disabled-bg-color);\n",
              "    fill: var(--disabled-fill-color);\n",
              "    box-shadow: none;\n",
              "  }\n",
              "\n",
              "  .colab-df-spinner {\n",
              "    border: 2px solid var(--fill-color);\n",
              "    border-color: transparent;\n",
              "    border-bottom-color: var(--fill-color);\n",
              "    animation:\n",
              "      spin 1s steps(1) infinite;\n",
              "  }\n",
              "\n",
              "  @keyframes spin {\n",
              "    0% {\n",
              "      border-color: transparent;\n",
              "      border-bottom-color: var(--fill-color);\n",
              "      border-left-color: var(--fill-color);\n",
              "    }\n",
              "    20% {\n",
              "      border-color: transparent;\n",
              "      border-left-color: var(--fill-color);\n",
              "      border-top-color: var(--fill-color);\n",
              "    }\n",
              "    30% {\n",
              "      border-color: transparent;\n",
              "      border-left-color: var(--fill-color);\n",
              "      border-top-color: var(--fill-color);\n",
              "      border-right-color: var(--fill-color);\n",
              "    }\n",
              "    40% {\n",
              "      border-color: transparent;\n",
              "      border-right-color: var(--fill-color);\n",
              "      border-top-color: var(--fill-color);\n",
              "    }\n",
              "    60% {\n",
              "      border-color: transparent;\n",
              "      border-right-color: var(--fill-color);\n",
              "    }\n",
              "    80% {\n",
              "      border-color: transparent;\n",
              "      border-right-color: var(--fill-color);\n",
              "      border-bottom-color: var(--fill-color);\n",
              "    }\n",
              "    90% {\n",
              "      border-color: transparent;\n",
              "      border-bottom-color: var(--fill-color);\n",
              "    }\n",
              "  }\n",
              "</style>\n",
              "\n",
              "  <script>\n",
              "    async function quickchart(key) {\n",
              "      const quickchartButtonEl =\n",
              "        document.querySelector('#' + key + ' button');\n",
              "      quickchartButtonEl.disabled = true;  // To prevent multiple clicks.\n",
              "      quickchartButtonEl.classList.add('colab-df-spinner');\n",
              "      try {\n",
              "        const charts = await google.colab.kernel.invokeFunction(\n",
              "            'suggestCharts', [key], {});\n",
              "      } catch (error) {\n",
              "        console.error('Error during call to suggestCharts:', error);\n",
              "      }\n",
              "      quickchartButtonEl.classList.remove('colab-df-spinner');\n",
              "      quickchartButtonEl.classList.add('colab-df-quickchart-complete');\n",
              "    }\n",
              "    (() => {\n",
              "      let quickchartButtonEl =\n",
              "        document.querySelector('#df-6a67f104-9a34-42bc-b6f8-b3afc6e62d20 button');\n",
              "      quickchartButtonEl.style.display =\n",
              "        google.colab.kernel.accessAllowed ? 'block' : 'none';\n",
              "    })();\n",
              "  </script>\n",
              "</div>\n",
              "\n",
              "    </div>\n",
              "  </div>\n"
            ],
            "application/vnd.google.colaboratory.intrinsic+json": {
              "type": "dataframe",
              "summary": "{\n  \"name\": \"test\",\n  \"rows\": 8,\n  \"fields\": [\n    {\n      \"column\": \"POLICY_ID\",\n      \"properties\": {\n        \"dtype\": \"number\",\n        \"std\": 138962663.91169205,\n        \"min\": 101988.0,\n        \"max\": 300508435.0,\n        \"num_unique_values\": 8,\n        \"samples\": [\n          300338483.0629878,\n          300389090.5,\n          101988.0\n        ],\n        \"semantic_type\": \"\",\n        \"description\": \"\"\n      }\n    },\n    {\n      \"column\": \"CUSTOMER_SENIORITY\",\n      \"properties\": {\n        \"dtype\": \"number\",\n        \"std\": 36054.22662617351,\n        \"min\": 0.0,\n        \"max\": 101988.0,\n        \"num_unique_values\": 8,\n        \"samples\": [\n          4.661989645840687,\n          2.0,\n          101988.0\n        ],\n        \"semantic_type\": \"\",\n        \"description\": \"\"\n      }\n    },\n    {\n      \"column\": \"INSURED_VALUE\",\n      \"properties\": {\n        \"dtype\": \"number\",\n        \"std\": 12706482.135332435,\n        \"min\": 0.0,\n        \"max\": 36256088.55,\n        \"num_unique_values\": 6,\n        \"samples\": [\n          101988.0,\n          512425.55048574344,\n          36256088.55\n        ],\n        \"semantic_type\": \"\",\n        \"description\": \"\"\n      }\n    },\n    {\n      \"column\": \"PREMIUM\",\n      \"properties\": {\n        \"dtype\": \"number\",\n        \"std\": 68019.46460141864,\n        \"min\": 0.0,\n        \"max\": 185301.7,\n        \"num_unique_values\": 8,\n        \"samples\": [\n          7443.23731485331,\n          1949.3,\n          101984.0\n        ],\n        \"semantic_type\": \"\",\n        \"description\": \"\"\n      }\n    },\n    {\n      \"column\": \"VEHICLE_ID\",\n      \"properties\": {\n        \"dtype\": \"number\",\n        \"std\": 2314798793.642118,\n        \"min\": 101988.0,\n        \"max\": 5001350531.0,\n        \"num_unique_values\": 8,\n        \"samples\": [\n          5000788916.529955,\n          5000875382.5,\n          101988.0\n        ],\n        \"semantic_type\": \"\",\n        \"description\": \"\"\n      }\n    },\n    {\n      \"column\": \"PROD_YEAR\",\n      \"properties\": {\n        \"dtype\": \"number\",\n        \"std\": 35458.13043338138,\n        \"min\": 9.334425317578438,\n        \"max\": 101988.0,\n        \"num_unique_values\": 8,\n        \"samples\": [\n          2008.28073891046,\n          2012.0,\n          101988.0\n        ],\n        \"semantic_type\": \"\",\n        \"description\": \"\"\n      }\n    },\n    {\n      \"column\": \"SEATS_NUM\",\n      \"properties\": {\n        \"dtype\": \"number\",\n        \"std\": 36044.87964341266,\n        \"min\": 0.0,\n        \"max\": 101982.0,\n        \"num_unique_values\": 8,\n        \"samples\": [\n          5.503628091231786,\n          3.0,\n          101982.0\n        ],\n        \"semantic_type\": \"\",\n        \"description\": \"\"\n      }\n    },\n    {\n      \"column\": \"CARRYING_CAPACITY\",\n      \"properties\": {\n        \"dtype\": \"number\",\n        \"std\": 79996.21158508402,\n        \"min\": 0.0,\n        \"max\": 224000.0,\n        \"num_unique_values\": 6,\n        \"samples\": [\n          79569.0,\n          238.8607175206425,\n          224000.0\n        ],\n        \"semantic_type\": \"\",\n        \"description\": \"\"\n      }\n    },\n    {\n      \"column\": \"CCM_TON\",\n      \"properties\": {\n        \"dtype\": \"number\",\n        \"std\": 35014.68894170572,\n        \"min\": 0.0,\n        \"max\": 101988.0,\n        \"num_unique_values\": 8,\n        \"samples\": [\n          2797.7953647487943,\n          1971.0,\n          101988.0\n        ],\n        \"semantic_type\": \"\",\n        \"description\": \"\"\n      }\n    }\n  ]\n}"
            }
          },
          "metadata": {},
          "execution_count": 139
        }
      ]
    },
    {
      "cell_type": "markdown",
      "source": [
        "**Comentario:**\n",
        "\n",
        "Armo este describe para comparar que las variables se distribuyan mas o menos de manera parecida al set con el que entrené. Veo algunas diferencias en seniority, insured value, premium y carrying capacity, lo cual podría afectar las predicciones en test"
      ],
      "metadata": {
        "id": "c-r7vTX-3cZ3"
      }
    },
    {
      "cell_type": "code",
      "source": [
        "# Armo algunos campos relativos, dejando na cuando estoy por dividir por cero\n",
        "test['iv_positivo'] = test['INSURED_VALUE'].apply(lambda x: 1 if x > 0 else 0).astype(str)\n",
        "test['premium_over_iv'] = np.where(test['INSURED_VALUE'] != 0, test['PREMIUM'] / test['INSURED_VALUE'], np.nan)\n",
        "test['iv_over_premium'] = np.where(test['PREMIUM'] != 0, test['INSURED_VALUE'] / test['PREMIUM'], np.nan)\n",
        "test['iv_over_seats'] = np.where(test['SEATS_NUM'] != 0, test['INSURED_VALUE'] / test['SEATS_NUM'], np.nan)\n",
        "test['premium_over_seats'] = np.where(test['SEATS_NUM'] != 0, test['PREMIUM'] / test['SEATS_NUM'], np.nan)\n",
        "test['iv_over_capacity'] = np.where(test['CARRYING_CAPACITY'] != 0, test['INSURED_VALUE'] / test['CARRYING_CAPACITY'], np.nan)\n",
        "test['premium_over_ccmton'] = np.where(test['CCM_TON'] != 0, test['PREMIUM'] / test['CCM_TON'], np.nan)\n",
        "test['ccmton_over_premium'] = np.where(test['PREMIUM'] != 0, test['CCM_TON'] / test['PREMIUM'], np.nan)\n",
        "test['iv_over_ccmton'] = np.where(test['CCM_TON'] != 0, test['INSURED_VALUE'] / test['CCM_TON'], np.nan)\n",
        "test['ccmton_over_iv'] = np.where(test['INSURED_VALUE'] != 0, test['CCM_TON'] / test['INSURED_VALUE'], np.nan)\n",
        "\n",
        "# Imputar nulos como el máximo de cada variable elevado a la 5\n",
        "variables_relativas = ['premium_over_iv', 'iv_over_premium', 'iv_over_seats', 'premium_over_seats',\n",
        "                       'iv_over_capacity', 'premium_over_ccmton', 'ccmton_over_premium', 'iv_over_ccmton', 'ccmton_over_iv']\n",
        "\n",
        "for variable in variables_relativas:\n",
        "    test[variable].fillna(test[variable].max() ** 5, inplace=True)\n",
        "\n",
        "# Tomo el mes de la fecha\n",
        "test['Month_Abbrev'] = test['INSR_BEGIN'].dt.strftime('%b')"
      ],
      "metadata": {
        "id": "CMpLTn5z3eyu"
      },
      "execution_count": null,
      "outputs": []
    },
    {
      "cell_type": "code",
      "source": [
        "# Imputo el valor máximo elevado a la 4 para aquellos valores donde el divisor es cero\n",
        "max_values = {}  # Diccionario para almacenar el valor máximo de cada columna\n",
        "\n",
        "columnas = ['premium_over_iv', 'iv_over_premium', 'iv_over_seats', 'premium_over_seats',\n",
        "            'iv_over_capacity', 'premium_over_ccmton', 'ccmton_over_premium', 'iv_over_ccmton',\n",
        "            'ccmton_over_iv']\n",
        "\n",
        "# Máximo para cada columna\n",
        "for column in columnas:\n",
        "    max_values[column] = test[column].replace([np.inf, -np.inf], np.nan).max()\n",
        "\n",
        "# Recorro el df y reemplazo\n",
        "for column in columnas:\n",
        "    test[column].fillna(max_values[column] ** 4, inplace=True)\n",
        "\n",
        "selected = ['premium_over_iv', 'iv_over_premium']\n",
        "\n",
        "# Si tanto la prima como el insured value son cero, entonces adopta el valor nan\n",
        "# ((test['INSURED_VALUE'] == 0) & (test['PREMIUM'] == 0)).sum() Esto me dice que hay una sola instancia donde premium y insured value son ambas cero. Ahi tengo que imputar un nan\n",
        "# Imputo un nan\n",
        "indices_condicion = test[(test['INSURED_VALUE'] == 0) & (test['PREMIUM'] == 0)].index\n",
        "test.loc[indices_condicion, selected] = np.nan\n"
      ],
      "metadata": {
        "id": "wKUomaoT4hv5"
      },
      "execution_count": null,
      "outputs": []
    },
    {
      "cell_type": "code",
      "source": [
        "# Tomo ln a algunos campos y agrego un epsilon muy pequeño para que el log(0) no me tire NaN\n",
        "epsilon = 1e-10\n",
        "\n",
        "test['premium_over_iv_ln'] = np.log(test['premium_over_iv'] + epsilon)\n",
        "test['iv_over_premium_ln'] = np.log(test['iv_over_premium'] + epsilon)\n",
        "test['iv_ln'] = np.log(test['INSURED_VALUE'] + epsilon)\n",
        "test['premium_ln'] = np.log(test['PREMIUM'] + epsilon)\n",
        "test['iv_over_seats_ln'] = np.log(test['iv_over_seats'] + epsilon)\n",
        "test['premium_over_seats_ln'] = np.log(test['premium_over_seats'] + epsilon)\n",
        "test['iv_over_capacity_ln'] = np.log(test['iv_over_capacity'] + epsilon)"
      ],
      "metadata": {
        "id": "61769Rws4m_H"
      },
      "execution_count": null,
      "outputs": []
    },
    {
      "cell_type": "code",
      "source": [
        "# Estandarizo\n",
        "columns_to_standardize = ['PREMIUM', 'INSURED_VALUE', 'CCM_TON', 'premium_over_iv', 'ccmton_over_iv', 'iv_over_premium']\n",
        "\n",
        "scaler = MinMaxScaler()\n",
        "for column in columns_to_standardize:\n",
        "    new_column_name = f\"{column}_stand\"\n",
        "    test[new_column_name] = scaler.fit_transform(test[[column]])"
      ],
      "metadata": {
        "id": "K3roxR3_4rqp"
      },
      "execution_count": null,
      "outputs": []
    },
    {
      "cell_type": "code",
      "source": [
        "test.info()"
      ],
      "metadata": {
        "colab": {
          "base_uri": "https://localhost:8080/"
        },
        "id": "PHLBV3Lv4uei",
        "outputId": "19f1d2ca-7b2c-4f5a-ac09-938e043a4cd2"
      },
      "execution_count": null,
      "outputs": [
        {
          "output_type": "stream",
          "name": "stdout",
          "text": [
            "<class 'pandas.core.frame.DataFrame'>\n",
            "Int64Index: 101988 entries, 0 to 101987\n",
            "Data columns (total 40 columns):\n",
            " #   Column                 Non-Null Count   Dtype         \n",
            "---  ------                 --------------   -----         \n",
            " 0   POLICY_ID              101988 non-null  float64       \n",
            " 1   INSR_BEGIN             101988 non-null  datetime64[ns]\n",
            " 2   INSR_END               101988 non-null  datetime64[ns]\n",
            " 3   CUSTOMER_SENIORITY     101988 non-null  float64       \n",
            " 4   SEX                    101988 non-null  object        \n",
            " 5   INSR_TYPE              101988 non-null  object        \n",
            " 6   INSURED_VALUE          101988 non-null  float64       \n",
            " 7   PREMIUM                101984 non-null  float64       \n",
            " 8   VEHICLE_ID             101988 non-null  float64       \n",
            " 9   USAGE                  101988 non-null  object        \n",
            " 10  PROD_YEAR              101988 non-null  float64       \n",
            " 11  SEATS_NUM              101982 non-null  float64       \n",
            " 12  CARRYING_CAPACITY      79569 non-null   float64       \n",
            " 13  TYPE_VEHICLE           101988 non-null  object        \n",
            " 14  CCM_TON                101988 non-null  float64       \n",
            " 15  MAKE                   101986 non-null  object        \n",
            " 16  iv_positivo            101988 non-null  object        \n",
            " 17  premium_over_iv        101987 non-null  float64       \n",
            " 18  iv_over_premium        101987 non-null  float64       \n",
            " 19  iv_over_seats          101988 non-null  float64       \n",
            " 20  premium_over_seats     101988 non-null  float64       \n",
            " 21  iv_over_capacity       101988 non-null  float64       \n",
            " 22  premium_over_ccmton    101988 non-null  float64       \n",
            " 23  ccmton_over_premium    101988 non-null  float64       \n",
            " 24  iv_over_ccmton         101988 non-null  float64       \n",
            " 25  ccmton_over_iv         101988 non-null  float64       \n",
            " 26  Month_Abbrev           101988 non-null  object        \n",
            " 27  premium_over_iv_ln     101987 non-null  float64       \n",
            " 28  iv_over_premium_ln     101987 non-null  float64       \n",
            " 29  iv_ln                  101988 non-null  float64       \n",
            " 30  premium_ln             101984 non-null  float64       \n",
            " 31  iv_over_seats_ln       101988 non-null  float64       \n",
            " 32  premium_over_seats_ln  101988 non-null  float64       \n",
            " 33  iv_over_capacity_ln    101988 non-null  float64       \n",
            " 34  PREMIUM_stand          101984 non-null  float64       \n",
            " 35  INSURED_VALUE_stand    101988 non-null  float64       \n",
            " 36  CCM_TON_stand          101988 non-null  float64       \n",
            " 37  premium_over_iv_stand  101987 non-null  float64       \n",
            " 38  ccmton_over_iv_stand   101988 non-null  float64       \n",
            " 39  iv_over_premium_stand  101987 non-null  float64       \n",
            "dtypes: datetime64[ns](2), float64(31), object(7)\n",
            "memory usage: 35.9+ MB\n"
          ]
        }
      ]
    },
    {
      "cell_type": "code",
      "source": [
        "test_copy = test\n",
        "\n",
        "# Cambio la columna iv positivo a valor numerico\n",
        "test_copy['iv_positivo'] = test_copy['iv_positivo'].astype(int)\n",
        "\n",
        "# Sacamos variables que no voy a usar en el modelo\n",
        "exclude_vars = ['INSR_BEGIN', 'INSR_END', 'MAKE']\n",
        "test_copy = test_copy.drop(columns=exclude_vars)\n",
        "\n",
        "# Imputamos nulos con la media\n",
        "numeric_cols = test_copy.select_dtypes(include=['float64', 'int64']).columns.tolist()\n",
        "numeric_preprocessor = SimpleImputer(strategy='mean')\n",
        "test_copy[numeric_cols] = numeric_preprocessor.fit_transform(test_copy[numeric_cols])\n",
        "\n",
        "# Hacemos one-hot encoding para categoricas\n",
        "categorical_columns = test_copy.select_dtypes(include=['object']).columns\n",
        "test_copy = pd.get_dummies(test_copy, columns=categorical_columns)\n",
        "\n",
        "# Veo las dimensiones\n",
        "print(\"Dimensiones de Test set:\", test_copy.shape)\n"
      ],
      "metadata": {
        "colab": {
          "base_uri": "https://localhost:8080/"
        },
        "id": "5wCdTuFY5Wsu",
        "outputId": "d4d3b7d8-05be-4a74-fa6e-0ebfd0d24eaf"
      },
      "execution_count": null,
      "outputs": [
        {
          "output_type": "stream",
          "name": "stdout",
          "text": [
            "Dimensiones de Test set: (101988, 73)\n"
          ]
        }
      ]
    },
    {
      "cell_type": "markdown",
      "source": [
        "Al set le falta una columna, probablemente sea algun valor de una variable categórica que no aparece en test, y por ende no se creó su columna con one-hot encoding"
      ],
      "metadata": {
        "id": "gqlR5rUv59t6"
      }
    },
    {
      "cell_type": "code",
      "source": [
        "# Obtener conjuntos de nombres de columnas\n",
        "columns_X_train = set(X_train.columns)\n",
        "columns_test = set(test_copy.columns)\n",
        "\n",
        "# Encontrar las columnas que están en X_train pero no en test\n",
        "missing_columns = columns_X_train - columns_test\n",
        "\n",
        "# Imprimir el resultado\n",
        "if missing_columns:\n",
        "    print(\"Las siguientes columnas están en X_train pero no en test:\")\n",
        "    for column in missing_columns:\n",
        "        print(column)\n",
        "else:\n",
        "    print(\"No hay columnas en X_train que no estén en test.\")"
      ],
      "metadata": {
        "colab": {
          "base_uri": "https://localhost:8080/"
        },
        "id": "gjiIYs8Q58jV",
        "outputId": "3b871e90-98dd-41a4-e28f-164726aa45f5"
      },
      "execution_count": null,
      "outputs": [
        {
          "output_type": "stream",
          "name": "stdout",
          "text": [
            "Las siguientes columnas están en X_train pero no en test:\n",
            "Month_Abbrev_Jul\n"
          ]
        }
      ]
    },
    {
      "cell_type": "markdown",
      "source": [
        "Agrego la columna en el orden donde aparece en el set de entrenamiento"
      ],
      "metadata": {
        "id": "U-k4x8al-FCh"
      }
    },
    {
      "cell_type": "code",
      "source": [
        "# Obtener la posición de 'Month_Abbrev_Jun'\n",
        "index_jun = list(test_copy.columns).index('Month_Abbrev_Jun')\n",
        "\n",
        "# Insertar 'Month_Abbrev_Jul' después de 'Month_Abbrev_Jan'\n",
        "test_copy.insert(index_jun, 'Month_Abbrev_Jul', 0)"
      ],
      "metadata": {
        "id": "w9e1XvvS7BLn"
      },
      "execution_count": null,
      "outputs": []
    },
    {
      "cell_type": "markdown",
      "source": [
        "### Entrenamiento sobre test resampleado"
      ],
      "metadata": {
        "id": "YCZjKIa3-erB"
      }
    },
    {
      "cell_type": "code",
      "source": [
        "# Creo y entreno el modelo balanceado\n",
        "balanced_model_rf = RandomForestClassifier(\n",
        "                                            n_estimators=200,\n",
        "                                            max_depth=3,\n",
        "                                            min_samples_split=2,\n",
        "                                            min_samples_leaf=1,\n",
        "                                            random_state=7)\n",
        "balanced_model_rf.fit(X_train_resampled, y_train_resampled)\n",
        "\n",
        "# Predecir en el conjunto de entrenamiento\n",
        "y_test_pred = balanced_model_rf.predict(test_copy)"
      ],
      "metadata": {
        "id": "MqB3GO-EDT2y"
      },
      "execution_count": null,
      "outputs": []
    },
    {
      "cell_type": "code",
      "source": [
        "y_test_pred"
      ],
      "metadata": {
        "colab": {
          "base_uri": "https://localhost:8080/"
        },
        "id": "WQsTVirxI4Fc",
        "outputId": "e519a6c5-8ca0-4d0b-8b04-32b53b3dd043"
      },
      "execution_count": null,
      "outputs": [
        {
          "output_type": "execute_result",
          "data": {
            "text/plain": [
              "array([0., 1., 1., ..., 0., 0., 0.])"
            ]
          },
          "metadata": {},
          "execution_count": 211
        }
      ]
    },
    {
      "cell_type": "code",
      "source": [
        "\n",
        "# Crear un DataFrame con el vector\n",
        "pred = pd.DataFrame({'pred': y_test_pred})\n",
        "\n",
        "# Guardar el DataFrame como un archivo CSV\n",
        "pred.to_csv('pred.csv', index=False)\n",
        "\n",
        "# Descargar\n",
        "files.download('pred.csv')\n"
      ],
      "metadata": {
        "colab": {
          "base_uri": "https://localhost:8080/",
          "height": 17
        },
        "id": "UHF4TJ8fJDs1",
        "outputId": "f86a0bb8-a022-4196-9ff8-8837391878fe"
      },
      "execution_count": null,
      "outputs": [
        {
          "output_type": "display_data",
          "data": {
            "text/plain": [
              "<IPython.core.display.Javascript object>"
            ],
            "application/javascript": [
              "\n",
              "    async function download(id, filename, size) {\n",
              "      if (!google.colab.kernel.accessAllowed) {\n",
              "        return;\n",
              "      }\n",
              "      const div = document.createElement('div');\n",
              "      const label = document.createElement('label');\n",
              "      label.textContent = `Downloading \"${filename}\": `;\n",
              "      div.appendChild(label);\n",
              "      const progress = document.createElement('progress');\n",
              "      progress.max = size;\n",
              "      div.appendChild(progress);\n",
              "      document.body.appendChild(div);\n",
              "\n",
              "      const buffers = [];\n",
              "      let downloaded = 0;\n",
              "\n",
              "      const channel = await google.colab.kernel.comms.open(id);\n",
              "      // Send a message to notify the kernel that we're ready.\n",
              "      channel.send({})\n",
              "\n",
              "      for await (const message of channel.messages) {\n",
              "        // Send a message to notify the kernel that we're ready.\n",
              "        channel.send({})\n",
              "        if (message.buffers) {\n",
              "          for (const buffer of message.buffers) {\n",
              "            buffers.push(buffer);\n",
              "            downloaded += buffer.byteLength;\n",
              "            progress.value = downloaded;\n",
              "          }\n",
              "        }\n",
              "      }\n",
              "      const blob = new Blob(buffers, {type: 'application/binary'});\n",
              "      const a = document.createElement('a');\n",
              "      a.href = window.URL.createObjectURL(blob);\n",
              "      a.download = filename;\n",
              "      div.appendChild(a);\n",
              "      a.click();\n",
              "      div.remove();\n",
              "    }\n",
              "  "
            ]
          },
          "metadata": {}
        },
        {
          "output_type": "display_data",
          "data": {
            "text/plain": [
              "<IPython.core.display.Javascript object>"
            ],
            "application/javascript": [
              "download(\"download_7c71cc00-eedd-4617-9f3f-7aa7073cc36e\", \"pred.csv\", 407957)"
            ]
          },
          "metadata": {}
        }
      ]
    }
  ],
  "metadata": {
    "colab": {
      "collapsed_sections": [
        "20rA1Q3xaUmF",
        "DSwmWB9Caewe",
        "D3elBnW4aBA1",
        "Wx0MSHDSTh8K",
        "imShyB4XHdxD",
        "bKeswsEqpZ_a"
      ],
      "provenance": []
    },
    "kernelspec": {
      "display_name": "Python 3",
      "name": "python3"
    },
    "language_info": {
      "name": "python"
    }
  },
  "nbformat": 4,
  "nbformat_minor": 0
}